{
 "cells": [
  {
   "cell_type": "markdown",
   "metadata": {},
   "source": [
    "# Review Exercise: InClass Kaggle Competition"
   ]
  },
  {
   "cell_type": "code",
   "execution_count": 2,
   "metadata": {},
   "outputs": [
    {
     "name": "stderr",
     "output_type": "stream",
     "text": [
      "also installing the dependencies 'TH.data', 'libcoin', 'matrixStats', 'multcomp', 'mvtnorm', 'modeltools', 'strucchange', 'coin', 'sandwich'\n",
      "\n",
      "\n"
     ]
    },
    {
     "name": "stdout",
     "output_type": "stream",
     "text": [
      "package 'TH.data' successfully unpacked and MD5 sums checked\n",
      "package 'libcoin' successfully unpacked and MD5 sums checked\n",
      "package 'matrixStats' successfully unpacked and MD5 sums checked\n",
      "package 'multcomp' successfully unpacked and MD5 sums checked\n",
      "package 'mvtnorm' successfully unpacked and MD5 sums checked\n",
      "package 'modeltools' successfully unpacked and MD5 sums checked\n",
      "package 'strucchange' successfully unpacked and MD5 sums checked\n",
      "package 'coin' successfully unpacked and MD5 sums checked\n",
      "package 'sandwich' successfully unpacked and MD5 sums checked\n",
      "package 'party' successfully unpacked and MD5 sums checked\n",
      "\n",
      "The downloaded binary packages are in\n",
      "\tC:\\Users\\warfaoui\\AppData\\Local\\Temp\\RtmpEdwWGh\\downloaded_packages\n"
     ]
    },
    {
     "name": "stderr",
     "output_type": "stream",
     "text": [
      "Loading required package: grid\n",
      "\n",
      "Loading required package: mvtnorm\n",
      "\n",
      "Loading required package: modeltools\n",
      "\n",
      "Loading required package: stats4\n",
      "\n",
      "Loading required package: strucchange\n",
      "\n",
      "Loading required package: zoo\n",
      "\n",
      "\n",
      "Attaching package: 'zoo'\n",
      "\n",
      "\n",
      "The following objects are masked from 'package:base':\n",
      "\n",
      "    as.Date, as.Date.numeric\n",
      "\n",
      "\n",
      "Loading required package: sandwich\n",
      "\n",
      "Type 'citation(\"pROC\")' for a citation.\n",
      "\n",
      "\n",
      "Attaching package: 'pROC'\n",
      "\n",
      "\n",
      "The following objects are masked from 'package:stats':\n",
      "\n",
      "    cov, smooth, var\n",
      "\n",
      "\n",
      "randomForest 4.6-14\n",
      "\n",
      "Type rfNews() to see new features/changes/bug fixes.\n",
      "\n",
      "\n",
      "Attaching package: 'randomForest'\n",
      "\n",
      "\n",
      "The following object is masked from 'package:ggplot2':\n",
      "\n",
      "    margin\n",
      "\n",
      "\n",
      "Loaded gbm 2.1.8\n",
      "\n"
     ]
    },
    {
     "data": {
      "text/html": [
       "'R version 4.0.5 (2021-03-31)'"
      ],
      "text/latex": [
       "'R version 4.0.5 (2021-03-31)'"
      ],
      "text/markdown": [
       "'R version 4.0.5 (2021-03-31)'"
      ],
      "text/plain": [
       "[1] \"R version 4.0.5 (2021-03-31)\""
      ]
     },
     "metadata": {},
     "output_type": "display_data"
    }
   ],
   "source": [
    "# Set environment params\n",
    "Sys.setenv(LANG='en')  # English\n",
    "\n",
    "# Import libraries\n",
    "library(data.table)    # Data manipulate\n",
    "library(caret)         # ML toolkit\n",
    "library(mlr)           # ML toolkit\n",
    "install.packages(\"party\")\n",
    "library(party)         # Data processing\n",
    "library(pROC)          # AUC, ROC\n",
    "library(rpart)         # Decision tree\n",
    "library(randomForest)  # Bagging and RF\n",
    "library(gbm)           # Boosting tree\n",
    "\n",
    "# Resize plot\n",
    "library(repr)  # String and binary representations\n",
    "#options(repr.plot.width=4, repr.plot.height=4)\n",
    "\n",
    "R.version.string"
   ]
  },
  {
   "cell_type": "markdown",
   "metadata": {},
   "source": [
    "### 1. Import and prepare data"
   ]
  },
  {
   "cell_type": "markdown",
   "metadata": {},
   "source": [
    "#### 1.1. Train data"
   ]
  },
  {
   "cell_type": "code",
   "execution_count": 3,
   "metadata": {},
   "outputs": [],
   "source": [
    "# Read train data\n",
    "train <- read.csv('./data/Kaggle/g1/bank_mkt_train.csv')"
   ]
  },
  {
   "cell_type": "code",
   "execution_count": 4,
   "metadata": {},
   "outputs": [
    {
     "data": {
      "text/html": [
       "<table class=\"dataframe\">\n",
       "<caption>A data.frame: 6 × 21</caption>\n",
       "<thead>\n",
       "\t<tr><th></th><th scope=col>client_id</th><th scope=col>age</th><th scope=col>job</th><th scope=col>marital</th><th scope=col>education</th><th scope=col>default</th><th scope=col>housing</th><th scope=col>loan</th><th scope=col>contact</th><th scope=col>month</th><th scope=col>⋯</th><th scope=col>campaign</th><th scope=col>pdays</th><th scope=col>previous</th><th scope=col>poutcome</th><th scope=col>emp.var.rate</th><th scope=col>cons.price.idx</th><th scope=col>cons.conf.idx</th><th scope=col>euribor3m</th><th scope=col>nr.employed</th><th scope=col>subscribe</th></tr>\n",
       "\t<tr><th></th><th scope=col>&lt;int&gt;</th><th scope=col>&lt;int&gt;</th><th scope=col>&lt;chr&gt;</th><th scope=col>&lt;chr&gt;</th><th scope=col>&lt;chr&gt;</th><th scope=col>&lt;chr&gt;</th><th scope=col>&lt;chr&gt;</th><th scope=col>&lt;chr&gt;</th><th scope=col>&lt;chr&gt;</th><th scope=col>&lt;chr&gt;</th><th scope=col>⋯</th><th scope=col>&lt;int&gt;</th><th scope=col>&lt;int&gt;</th><th scope=col>&lt;int&gt;</th><th scope=col>&lt;chr&gt;</th><th scope=col>&lt;dbl&gt;</th><th scope=col>&lt;dbl&gt;</th><th scope=col>&lt;dbl&gt;</th><th scope=col>&lt;dbl&gt;</th><th scope=col>&lt;dbl&gt;</th><th scope=col>&lt;int&gt;</th></tr>\n",
       "</thead>\n",
       "<tbody>\n",
       "\t<tr><th scope=row>1</th><td>29925</td><td>42</td><td>management</td><td>married</td><td>basic.9y           </td><td>no     </td><td>no     </td><td>no     </td><td>cellular </td><td>jul</td><td>⋯</td><td>1</td><td>999</td><td>0</td><td>nonexistent</td><td> 1.4</td><td>93.918</td><td>-42.7</td><td>4.968</td><td>5228.1</td><td>0</td></tr>\n",
       "\t<tr><th scope=row>2</th><td>37529</td><td>35</td><td>unemployed</td><td>married</td><td>university.degree  </td><td>no     </td><td>yes    </td><td>no     </td><td>telephone</td><td>jun</td><td>⋯</td><td>4</td><td>999</td><td>0</td><td>nonexistent</td><td> 1.4</td><td>94.465</td><td>-41.8</td><td>4.960</td><td>5228.1</td><td>0</td></tr>\n",
       "\t<tr><th scope=row>3</th><td> 2757</td><td>44</td><td>technician</td><td>married</td><td>basic.9y           </td><td>no     </td><td>yes    </td><td>yes    </td><td>cellular </td><td>may</td><td>⋯</td><td>1</td><td>999</td><td>0</td><td>nonexistent</td><td>-1.8</td><td>92.893</td><td>-46.2</td><td>1.264</td><td>5099.1</td><td>0</td></tr>\n",
       "\t<tr><th scope=row>4</th><td> 9642</td><td>45</td><td>services  </td><td>married</td><td>high.school        </td><td>no     </td><td>yes    </td><td>no     </td><td>cellular </td><td>apr</td><td>⋯</td><td>1</td><td>999</td><td>0</td><td>nonexistent</td><td>-1.8</td><td>93.075</td><td>-47.1</td><td>1.453</td><td>5099.1</td><td>0</td></tr>\n",
       "\t<tr><th scope=row>5</th><td>14183</td><td>45</td><td>unknown   </td><td>married</td><td>unknown            </td><td>unknown</td><td>unknown</td><td>unknown</td><td>telephone</td><td>may</td><td>⋯</td><td>1</td><td>999</td><td>0</td><td>nonexistent</td><td> 1.1</td><td>93.994</td><td>-36.4</td><td>4.859</td><td>5191.0</td><td>0</td></tr>\n",
       "\t<tr><th scope=row>6</th><td>15180</td><td>38</td><td>technician</td><td>married</td><td>professional.course</td><td>no     </td><td>no     </td><td>no     </td><td>telephone</td><td>may</td><td>⋯</td><td>2</td><td>999</td><td>0</td><td>nonexistent</td><td> 1.1</td><td>93.994</td><td>-36.4</td><td>4.858</td><td>5191.0</td><td>0</td></tr>\n",
       "</tbody>\n",
       "</table>\n"
      ],
      "text/latex": [
       "A data.frame: 6 × 21\n",
       "\\begin{tabular}{r|lllllllllllllllllllll}\n",
       "  & client\\_id & age & job & marital & education & default & housing & loan & contact & month & ⋯ & campaign & pdays & previous & poutcome & emp.var.rate & cons.price.idx & cons.conf.idx & euribor3m & nr.employed & subscribe\\\\\n",
       "  & <int> & <int> & <chr> & <chr> & <chr> & <chr> & <chr> & <chr> & <chr> & <chr> & ⋯ & <int> & <int> & <int> & <chr> & <dbl> & <dbl> & <dbl> & <dbl> & <dbl> & <int>\\\\\n",
       "\\hline\n",
       "\t1 & 29925 & 42 & management & married & basic.9y            & no      & no      & no      & cellular  & jul & ⋯ & 1 & 999 & 0 & nonexistent &  1.4 & 93.918 & -42.7 & 4.968 & 5228.1 & 0\\\\\n",
       "\t2 & 37529 & 35 & unemployed & married & university.degree   & no      & yes     & no      & telephone & jun & ⋯ & 4 & 999 & 0 & nonexistent &  1.4 & 94.465 & -41.8 & 4.960 & 5228.1 & 0\\\\\n",
       "\t3 &  2757 & 44 & technician & married & basic.9y            & no      & yes     & yes     & cellular  & may & ⋯ & 1 & 999 & 0 & nonexistent & -1.8 & 92.893 & -46.2 & 1.264 & 5099.1 & 0\\\\\n",
       "\t4 &  9642 & 45 & services   & married & high.school         & no      & yes     & no      & cellular  & apr & ⋯ & 1 & 999 & 0 & nonexistent & -1.8 & 93.075 & -47.1 & 1.453 & 5099.1 & 0\\\\\n",
       "\t5 & 14183 & 45 & unknown    & married & unknown             & unknown & unknown & unknown & telephone & may & ⋯ & 1 & 999 & 0 & nonexistent &  1.1 & 93.994 & -36.4 & 4.859 & 5191.0 & 0\\\\\n",
       "\t6 & 15180 & 38 & technician & married & professional.course & no      & no      & no      & telephone & may & ⋯ & 2 & 999 & 0 & nonexistent &  1.1 & 93.994 & -36.4 & 4.858 & 5191.0 & 0\\\\\n",
       "\\end{tabular}\n"
      ],
      "text/markdown": [
       "\n",
       "A data.frame: 6 × 21\n",
       "\n",
       "| <!--/--> | client_id &lt;int&gt; | age &lt;int&gt; | job &lt;chr&gt; | marital &lt;chr&gt; | education &lt;chr&gt; | default &lt;chr&gt; | housing &lt;chr&gt; | loan &lt;chr&gt; | contact &lt;chr&gt; | month &lt;chr&gt; | ⋯ ⋯ | campaign &lt;int&gt; | pdays &lt;int&gt; | previous &lt;int&gt; | poutcome &lt;chr&gt; | emp.var.rate &lt;dbl&gt; | cons.price.idx &lt;dbl&gt; | cons.conf.idx &lt;dbl&gt; | euribor3m &lt;dbl&gt; | nr.employed &lt;dbl&gt; | subscribe &lt;int&gt; |\n",
       "|---|---|---|---|---|---|---|---|---|---|---|---|---|---|---|---|---|---|---|---|---|---|\n",
       "| 1 | 29925 | 42 | management | married | basic.9y            | no      | no      | no      | cellular  | jul | ⋯ | 1 | 999 | 0 | nonexistent |  1.4 | 93.918 | -42.7 | 4.968 | 5228.1 | 0 |\n",
       "| 2 | 37529 | 35 | unemployed | married | university.degree   | no      | yes     | no      | telephone | jun | ⋯ | 4 | 999 | 0 | nonexistent |  1.4 | 94.465 | -41.8 | 4.960 | 5228.1 | 0 |\n",
       "| 3 |  2757 | 44 | technician | married | basic.9y            | no      | yes     | yes     | cellular  | may | ⋯ | 1 | 999 | 0 | nonexistent | -1.8 | 92.893 | -46.2 | 1.264 | 5099.1 | 0 |\n",
       "| 4 |  9642 | 45 | services   | married | high.school         | no      | yes     | no      | cellular  | apr | ⋯ | 1 | 999 | 0 | nonexistent | -1.8 | 93.075 | -47.1 | 1.453 | 5099.1 | 0 |\n",
       "| 5 | 14183 | 45 | unknown    | married | unknown             | unknown | unknown | unknown | telephone | may | ⋯ | 1 | 999 | 0 | nonexistent |  1.1 | 93.994 | -36.4 | 4.859 | 5191.0 | 0 |\n",
       "| 6 | 15180 | 38 | technician | married | professional.course | no      | no      | no      | telephone | may | ⋯ | 2 | 999 | 0 | nonexistent |  1.1 | 93.994 | -36.4 | 4.858 | 5191.0 | 0 |\n",
       "\n"
      ],
      "text/plain": [
       "  client_id age job        marital education           default housing loan   \n",
       "1 29925     42  management married basic.9y            no      no      no     \n",
       "2 37529     35  unemployed married university.degree   no      yes     no     \n",
       "3  2757     44  technician married basic.9y            no      yes     yes    \n",
       "4  9642     45  services   married high.school         no      yes     no     \n",
       "5 14183     45  unknown    married unknown             unknown unknown unknown\n",
       "6 15180     38  technician married professional.course no      no      no     \n",
       "  contact   month <U+22EF>        campaign pdays previous poutcome    emp.var.rate\n",
       "1 cellular  jul   <U+22EF> 1        999   0        nonexistent  1.4        \n",
       "2 telephone jun   <U+22EF> 4        999   0        nonexistent  1.4        \n",
       "3 cellular  may   <U+22EF> 1        999   0        nonexistent -1.8        \n",
       "4 cellular  apr   <U+22EF> 1        999   0        nonexistent -1.8        \n",
       "5 telephone may   <U+22EF> 1        999   0        nonexistent  1.1        \n",
       "6 telephone may   <U+22EF> 2        999   0        nonexistent  1.1        \n",
       "  cons.price.idx cons.conf.idx euribor3m nr.employed subscribe\n",
       "1 93.918         -42.7         4.968     5228.1      0        \n",
       "2 94.465         -41.8         4.960     5228.1      0        \n",
       "3 92.893         -46.2         1.264     5099.1      0        \n",
       "4 93.075         -47.1         1.453     5099.1      0        \n",
       "5 93.994         -36.4         4.859     5191.0      0        \n",
       "6 93.994         -36.4         4.858     5191.0      0        "
      ]
     },
     "metadata": {},
     "output_type": "display_data"
    }
   ],
   "source": [
    "# Show the data\n",
    "head(train)"
   ]
  },
  {
   "cell_type": "markdown",
   "metadata": {},
   "source": [
    "Separate variables by type."
   ]
  },
  {
   "cell_type": "code",
   "execution_count": 5,
   "metadata": {},
   "outputs": [],
   "source": [
    "# List of numerical and catergorical variables\n",
    "iv_vars <- colnames(train)[2:(ncol(train)-1)]\n",
    "dv_var <- colnames(train)[ncol(train)]\n",
    "num_vars <- names(which(unlist(lapply(train[iv_vars], is.numeric)) == TRUE))\n",
    "cat_vars <- names(which(unlist(lapply(train[iv_vars], is.numeric)) == FALSE))"
   ]
  },
  {
   "cell_type": "markdown",
   "metadata": {},
   "source": [
    "Check and correct data errors by variable type."
   ]
  },
  {
   "cell_type": "code",
   "execution_count": 6,
   "metadata": {},
   "outputs": [
    {
     "name": "stdout",
     "output_type": "stream",
     "text": [
      "[1] \"Total NAs: 3664\"\n"
     ]
    },
    {
     "data": {
      "text/html": [
       "<style>\n",
       ".dl-inline {width: auto; margin:0; padding: 0}\n",
       ".dl-inline>dt, .dl-inline>dd {float: none; width: auto; display: inline-block}\n",
       ".dl-inline>dt::after {content: \":\\0020\"; padding-right: .5ex}\n",
       ".dl-inline>dt:not(:first-of-type) {padding-left: .5ex}\n",
       "</style><dl class=dl-inline><dt>age</dt><dd>202</dd><dt>job</dt><dd>161</dd><dt>marital</dt><dd>199</dd><dt>education</dt><dd>170</dd><dt>default</dt><dd>214</dd><dt>housing</dt><dd>195</dd><dt>loan</dt><dd>219</dd><dt>contact</dt><dd>217</dd><dt>month</dt><dd>199</dd><dt>day_of_week</dt><dd>185</dd><dt>campaign</dt><dd>203</dd><dt>pdays</dt><dd>185</dd><dt>previous</dt><dd>209</dd><dt>poutcome</dt><dd>175</dd><dt>emp.var.rate</dt><dd>165</dd><dt>cons.price.idx</dt><dd>181</dd><dt>cons.conf.idx</dt><dd>197</dd><dt>euribor3m</dt><dd>204</dd><dt>nr.employed</dt><dd>184</dd></dl>\n"
      ],
      "text/latex": [
       "\\begin{description*}\n",
       "\\item[age] 202\n",
       "\\item[job] 161\n",
       "\\item[marital] 199\n",
       "\\item[education] 170\n",
       "\\item[default] 214\n",
       "\\item[housing] 195\n",
       "\\item[loan] 219\n",
       "\\item[contact] 217\n",
       "\\item[month] 199\n",
       "\\item[day\\textbackslash{}\\_of\\textbackslash{}\\_week] 185\n",
       "\\item[campaign] 203\n",
       "\\item[pdays] 185\n",
       "\\item[previous] 209\n",
       "\\item[poutcome] 175\n",
       "\\item[emp.var.rate] 165\n",
       "\\item[cons.price.idx] 181\n",
       "\\item[cons.conf.idx] 197\n",
       "\\item[euribor3m] 204\n",
       "\\item[nr.employed] 184\n",
       "\\end{description*}\n"
      ],
      "text/markdown": [
       "age\n",
       ":   202job\n",
       ":   161marital\n",
       ":   199education\n",
       ":   170default\n",
       ":   214housing\n",
       ":   195loan\n",
       ":   219contact\n",
       ":   217month\n",
       ":   199day_of_week\n",
       ":   185campaign\n",
       ":   203pdays\n",
       ":   185previous\n",
       ":   209poutcome\n",
       ":   175emp.var.rate\n",
       ":   165cons.price.idx\n",
       ":   181cons.conf.idx\n",
       ":   197euribor3m\n",
       ":   204nr.employed\n",
       ":   184\n",
       "\n"
      ],
      "text/plain": [
       "           age            job        marital      education        default \n",
       "           202            161            199            170            214 \n",
       "       housing           loan        contact          month    day_of_week \n",
       "           195            219            217            199            185 \n",
       "      campaign          pdays       previous       poutcome   emp.var.rate \n",
       "           203            185            209            175            165 \n",
       "cons.price.idx  cons.conf.idx      euribor3m    nr.employed \n",
       "           181            197            204            184 "
      ]
     },
     "metadata": {},
     "output_type": "display_data"
    }
   ],
   "source": [
    "# Check missing values\n",
    "print(paste(\"Total NAs:\", sum(apply(is.na(train[iv_vars]), 2, sum))))\n",
    "apply(is.na(train[iv_vars]), 2, sum)"
   ]
  },
  {
   "cell_type": "code",
   "execution_count": 8,
   "metadata": {},
   "outputs": [],
   "source": [
    "# Filling missing values\n",
    "for (v in num_vars) { train[is.na(train[v]), v] <- 0 }  # Numeric = 0\n",
    "for (v in cat_vars) { train[is.na(train[v]), v] <- \"Missing\" }  # Categorical = 'Missing'"
   ]
  },
  {
   "cell_type": "markdown",
   "metadata": {},
   "source": [
    "Transform some variables by type."
   ]
  },
  {
   "cell_type": "code",
   "execution_count": 9,
   "metadata": {},
   "outputs": [],
   "source": [
    "# Build the dummy encoding on train\n",
    "encoding <- caret::dummyVars(~ ., data=train[cat_vars], sep=\"_\", fullRank=TRUE)\n",
    "# Create dummy variables\n",
    "train_dummy <- as.data.frame(predict(encoding, newdata=train[cat_vars]))\n",
    "# Correct columns names\n",
    "names(train_dummy) <- gsub(\"-\", \"_\", names(train_dummy))\n",
    "# Combine with numerical variables\n",
    "train_processed <- cbind(train[num_vars], train_dummy, train[dv_var])"
   ]
  },
  {
   "cell_type": "code",
   "execution_count": 10,
   "metadata": {},
   "outputs": [
    {
     "data": {
      "text/html": [
       "<style>\n",
       ".list-inline {list-style: none; margin:0; padding: 0}\n",
       ".list-inline>li {display: inline-block}\n",
       ".list-inline>li:not(:last-child)::after {content: \"\\00b7\"; padding: 0 .5ex}\n",
       "</style>\n",
       "<ol class=list-inline><li>'age'</li><li>'campaign'</li><li>'pdays'</li><li>'previous'</li><li>'emp.var.rate'</li><li>'cons.price.idx'</li><li>'cons.conf.idx'</li><li>'euribor3m'</li><li>'nr.employed'</li><li>'jobblue_collar'</li><li>'jobentrepreneur'</li><li>'jobhousemaid'</li><li>'jobmanagement'</li><li>'jobMissing'</li><li>'jobretired'</li><li>'jobself_employed'</li><li>'jobservices'</li><li>'jobstudent'</li><li>'jobtechnician'</li><li>'jobunemployed'</li><li>'jobunknown'</li><li>'maritalmarried'</li><li>'maritalMissing'</li><li>'maritalsingle'</li><li>'maritalunknown'</li><li>'educationbasic.6y'</li><li>'educationbasic.9y'</li><li>'educationhigh.school'</li><li>'educationilliterate'</li><li>'educationMissing'</li><li>'educationprofessional.course'</li><li>'educationuniversity.degree'</li><li>'educationunknown'</li><li>'defaultno'</li><li>'defaultunknown'</li><li>'defaultyes'</li><li>'housingno'</li><li>'housingunknown'</li><li>'housingyes'</li><li>'loanno'</li><li>'loanunknown'</li><li>'loanyes'</li><li>'contactMissing'</li><li>'contacttelephone'</li><li>'monthaug'</li><li>'monthdec'</li><li>'monthjul'</li><li>'monthjun'</li><li>'monthmar'</li><li>'monthmay'</li><li>'monthMissing'</li><li>'monthnov'</li><li>'monthoct'</li><li>'monthsep'</li><li>'day_of_weekMissing'</li><li>'day_of_weekmon'</li><li>'day_of_weekthu'</li><li>'day_of_weektue'</li><li>'day_of_weekwed'</li><li>'poutcomeMissing'</li><li>'poutcomenonexistent'</li><li>'poutcomesuccess'</li><li>'subscribe'</li></ol>\n"
      ],
      "text/latex": [
       "\\begin{enumerate*}\n",
       "\\item 'age'\n",
       "\\item 'campaign'\n",
       "\\item 'pdays'\n",
       "\\item 'previous'\n",
       "\\item 'emp.var.rate'\n",
       "\\item 'cons.price.idx'\n",
       "\\item 'cons.conf.idx'\n",
       "\\item 'euribor3m'\n",
       "\\item 'nr.employed'\n",
       "\\item 'jobblue\\_collar'\n",
       "\\item 'jobentrepreneur'\n",
       "\\item 'jobhousemaid'\n",
       "\\item 'jobmanagement'\n",
       "\\item 'jobMissing'\n",
       "\\item 'jobretired'\n",
       "\\item 'jobself\\_employed'\n",
       "\\item 'jobservices'\n",
       "\\item 'jobstudent'\n",
       "\\item 'jobtechnician'\n",
       "\\item 'jobunemployed'\n",
       "\\item 'jobunknown'\n",
       "\\item 'maritalmarried'\n",
       "\\item 'maritalMissing'\n",
       "\\item 'maritalsingle'\n",
       "\\item 'maritalunknown'\n",
       "\\item 'educationbasic.6y'\n",
       "\\item 'educationbasic.9y'\n",
       "\\item 'educationhigh.school'\n",
       "\\item 'educationilliterate'\n",
       "\\item 'educationMissing'\n",
       "\\item 'educationprofessional.course'\n",
       "\\item 'educationuniversity.degree'\n",
       "\\item 'educationunknown'\n",
       "\\item 'defaultno'\n",
       "\\item 'defaultunknown'\n",
       "\\item 'defaultyes'\n",
       "\\item 'housingno'\n",
       "\\item 'housingunknown'\n",
       "\\item 'housingyes'\n",
       "\\item 'loanno'\n",
       "\\item 'loanunknown'\n",
       "\\item 'loanyes'\n",
       "\\item 'contactMissing'\n",
       "\\item 'contacttelephone'\n",
       "\\item 'monthaug'\n",
       "\\item 'monthdec'\n",
       "\\item 'monthjul'\n",
       "\\item 'monthjun'\n",
       "\\item 'monthmar'\n",
       "\\item 'monthmay'\n",
       "\\item 'monthMissing'\n",
       "\\item 'monthnov'\n",
       "\\item 'monthoct'\n",
       "\\item 'monthsep'\n",
       "\\item 'day\\_of\\_weekMissing'\n",
       "\\item 'day\\_of\\_weekmon'\n",
       "\\item 'day\\_of\\_weekthu'\n",
       "\\item 'day\\_of\\_weektue'\n",
       "\\item 'day\\_of\\_weekwed'\n",
       "\\item 'poutcomeMissing'\n",
       "\\item 'poutcomenonexistent'\n",
       "\\item 'poutcomesuccess'\n",
       "\\item 'subscribe'\n",
       "\\end{enumerate*}\n"
      ],
      "text/markdown": [
       "1. 'age'\n",
       "2. 'campaign'\n",
       "3. 'pdays'\n",
       "4. 'previous'\n",
       "5. 'emp.var.rate'\n",
       "6. 'cons.price.idx'\n",
       "7. 'cons.conf.idx'\n",
       "8. 'euribor3m'\n",
       "9. 'nr.employed'\n",
       "10. 'jobblue_collar'\n",
       "11. 'jobentrepreneur'\n",
       "12. 'jobhousemaid'\n",
       "13. 'jobmanagement'\n",
       "14. 'jobMissing'\n",
       "15. 'jobretired'\n",
       "16. 'jobself_employed'\n",
       "17. 'jobservices'\n",
       "18. 'jobstudent'\n",
       "19. 'jobtechnician'\n",
       "20. 'jobunemployed'\n",
       "21. 'jobunknown'\n",
       "22. 'maritalmarried'\n",
       "23. 'maritalMissing'\n",
       "24. 'maritalsingle'\n",
       "25. 'maritalunknown'\n",
       "26. 'educationbasic.6y'\n",
       "27. 'educationbasic.9y'\n",
       "28. 'educationhigh.school'\n",
       "29. 'educationilliterate'\n",
       "30. 'educationMissing'\n",
       "31. 'educationprofessional.course'\n",
       "32. 'educationuniversity.degree'\n",
       "33. 'educationunknown'\n",
       "34. 'defaultno'\n",
       "35. 'defaultunknown'\n",
       "36. 'defaultyes'\n",
       "37. 'housingno'\n",
       "38. 'housingunknown'\n",
       "39. 'housingyes'\n",
       "40. 'loanno'\n",
       "41. 'loanunknown'\n",
       "42. 'loanyes'\n",
       "43. 'contactMissing'\n",
       "44. 'contacttelephone'\n",
       "45. 'monthaug'\n",
       "46. 'monthdec'\n",
       "47. 'monthjul'\n",
       "48. 'monthjun'\n",
       "49. 'monthmar'\n",
       "50. 'monthmay'\n",
       "51. 'monthMissing'\n",
       "52. 'monthnov'\n",
       "53. 'monthoct'\n",
       "54. 'monthsep'\n",
       "55. 'day_of_weekMissing'\n",
       "56. 'day_of_weekmon'\n",
       "57. 'day_of_weekthu'\n",
       "58. 'day_of_weektue'\n",
       "59. 'day_of_weekwed'\n",
       "60. 'poutcomeMissing'\n",
       "61. 'poutcomenonexistent'\n",
       "62. 'poutcomesuccess'\n",
       "63. 'subscribe'\n",
       "\n",
       "\n"
      ],
      "text/plain": [
       " [1] \"age\"                          \"campaign\"                    \n",
       " [3] \"pdays\"                        \"previous\"                    \n",
       " [5] \"emp.var.rate\"                 \"cons.price.idx\"              \n",
       " [7] \"cons.conf.idx\"                \"euribor3m\"                   \n",
       " [9] \"nr.employed\"                  \"jobblue_collar\"              \n",
       "[11] \"jobentrepreneur\"              \"jobhousemaid\"                \n",
       "[13] \"jobmanagement\"                \"jobMissing\"                  \n",
       "[15] \"jobretired\"                   \"jobself_employed\"            \n",
       "[17] \"jobservices\"                  \"jobstudent\"                  \n",
       "[19] \"jobtechnician\"                \"jobunemployed\"               \n",
       "[21] \"jobunknown\"                   \"maritalmarried\"              \n",
       "[23] \"maritalMissing\"               \"maritalsingle\"               \n",
       "[25] \"maritalunknown\"               \"educationbasic.6y\"           \n",
       "[27] \"educationbasic.9y\"            \"educationhigh.school\"        \n",
       "[29] \"educationilliterate\"          \"educationMissing\"            \n",
       "[31] \"educationprofessional.course\" \"educationuniversity.degree\"  \n",
       "[33] \"educationunknown\"             \"defaultno\"                   \n",
       "[35] \"defaultunknown\"               \"defaultyes\"                  \n",
       "[37] \"housingno\"                    \"housingunknown\"              \n",
       "[39] \"housingyes\"                   \"loanno\"                      \n",
       "[41] \"loanunknown\"                  \"loanyes\"                     \n",
       "[43] \"contactMissing\"               \"contacttelephone\"            \n",
       "[45] \"monthaug\"                     \"monthdec\"                    \n",
       "[47] \"monthjul\"                     \"monthjun\"                    \n",
       "[49] \"monthmar\"                     \"monthmay\"                    \n",
       "[51] \"monthMissing\"                 \"monthnov\"                    \n",
       "[53] \"monthoct\"                     \"monthsep\"                    \n",
       "[55] \"day_of_weekMissing\"           \"day_of_weekmon\"              \n",
       "[57] \"day_of_weekthu\"               \"day_of_weektue\"              \n",
       "[59] \"day_of_weekwed\"               \"poutcomeMissing\"             \n",
       "[61] \"poutcomenonexistent\"          \"poutcomesuccess\"             \n",
       "[63] \"subscribe\"                   "
      ]
     },
     "metadata": {},
     "output_type": "display_data"
    }
   ],
   "source": [
    "# Check variables names\n",
    "names(train_processed)"
   ]
  },
  {
   "cell_type": "markdown",
   "metadata": {},
   "source": [
    "#### 1.2. Test data"
   ]
  },
  {
   "cell_type": "code",
   "execution_count": 11,
   "metadata": {},
   "outputs": [],
   "source": [
    "# Read test data\n",
    "test <- read.csv('./data/Kaggle/g1/bank_mkt_test.csv')"
   ]
  },
  {
   "cell_type": "markdown",
   "metadata": {},
   "source": [
    "Check and correct data errors by variable type."
   ]
  },
  {
   "cell_type": "code",
   "execution_count": 12,
   "metadata": {},
   "outputs": [
    {
     "name": "stdout",
     "output_type": "stream",
     "text": [
      "[1] \"Total NAs: 1975\"\n"
     ]
    },
    {
     "data": {
      "text/html": [
       "<style>\n",
       ".dl-inline {width: auto; margin:0; padding: 0}\n",
       ".dl-inline>dt, .dl-inline>dd {float: none; width: auto; display: inline-block}\n",
       ".dl-inline>dt::after {content: \":\\0020\"; padding-right: .5ex}\n",
       ".dl-inline>dt:not(:first-of-type) {padding-left: .5ex}\n",
       "</style><dl class=dl-inline><dt>age</dt><dd>105</dd><dt>job</dt><dd>111</dd><dt>marital</dt><dd>95</dd><dt>education</dt><dd>97</dd><dt>default</dt><dd>124</dd><dt>housing</dt><dd>103</dd><dt>loan</dt><dd>109</dd><dt>contact</dt><dd>87</dd><dt>month</dt><dd>120</dd><dt>day_of_week</dt><dd>106</dd><dt>campaign</dt><dd>88</dd><dt>pdays</dt><dd>100</dd><dt>previous</dt><dd>105</dd><dt>poutcome</dt><dd>105</dd><dt>emp.var.rate</dt><dd>105</dd><dt>cons.price.idx</dt><dd>101</dd><dt>cons.conf.idx</dt><dd>104</dd><dt>euribor3m</dt><dd>88</dd><dt>nr.employed</dt><dd>122</dd></dl>\n"
      ],
      "text/latex": [
       "\\begin{description*}\n",
       "\\item[age] 105\n",
       "\\item[job] 111\n",
       "\\item[marital] 95\n",
       "\\item[education] 97\n",
       "\\item[default] 124\n",
       "\\item[housing] 103\n",
       "\\item[loan] 109\n",
       "\\item[contact] 87\n",
       "\\item[month] 120\n",
       "\\item[day\\textbackslash{}\\_of\\textbackslash{}\\_week] 106\n",
       "\\item[campaign] 88\n",
       "\\item[pdays] 100\n",
       "\\item[previous] 105\n",
       "\\item[poutcome] 105\n",
       "\\item[emp.var.rate] 105\n",
       "\\item[cons.price.idx] 101\n",
       "\\item[cons.conf.idx] 104\n",
       "\\item[euribor3m] 88\n",
       "\\item[nr.employed] 122\n",
       "\\end{description*}\n"
      ],
      "text/markdown": [
       "age\n",
       ":   105job\n",
       ":   111marital\n",
       ":   95education\n",
       ":   97default\n",
       ":   124housing\n",
       ":   103loan\n",
       ":   109contact\n",
       ":   87month\n",
       ":   120day_of_week\n",
       ":   106campaign\n",
       ":   88pdays\n",
       ":   100previous\n",
       ":   105poutcome\n",
       ":   105emp.var.rate\n",
       ":   105cons.price.idx\n",
       ":   101cons.conf.idx\n",
       ":   104euribor3m\n",
       ":   88nr.employed\n",
       ":   122\n",
       "\n"
      ],
      "text/plain": [
       "           age            job        marital      education        default \n",
       "           105            111             95             97            124 \n",
       "       housing           loan        contact          month    day_of_week \n",
       "           103            109             87            120            106 \n",
       "      campaign          pdays       previous       poutcome   emp.var.rate \n",
       "            88            100            105            105            105 \n",
       "cons.price.idx  cons.conf.idx      euribor3m    nr.employed \n",
       "           101            104             88            122 "
      ]
     },
     "metadata": {},
     "output_type": "display_data"
    }
   ],
   "source": [
    "# Check missing values\n",
    "print(paste(\"Total NAs:\", sum(apply(is.na(test[iv_vars]), 2, sum))))\n",
    "apply(is.na(test[iv_vars]), 2, sum)"
   ]
  },
  {
   "cell_type": "code",
   "execution_count": 13,
   "metadata": {},
   "outputs": [],
   "source": [
    "# Filling missing values\n",
    "for (v in num_vars) { test[is.na(test[v]), v] <- 0 }  # Numeric = 0\n",
    "for (v in cat_vars) { test[is.na(test[v]), v] <- \"Missing\" }  # Categorical = 'Missing'"
   ]
  },
  {
   "cell_type": "markdown",
   "metadata": {},
   "source": [
    "Transform some variables by type."
   ]
  },
  {
   "cell_type": "code",
   "execution_count": 14,
   "metadata": {},
   "outputs": [],
   "source": [
    "# Create dummy variables\n",
    "test_dummy <- as.data.frame(predict(encoding, newdata=test[cat_vars]))\n",
    "# Correct columns names\n",
    "names(test_dummy) <- gsub(\"-\", \"_\", names(test_dummy))\n",
    "# Combine with numerical variables\n",
    "test_processed <- cbind(test[num_vars], test_dummy)"
   ]
  },
  {
   "cell_type": "markdown",
   "metadata": {},
   "source": [
    "#### 1.3. Finalize train, test"
   ]
  },
  {
   "cell_type": "markdown",
   "metadata": {},
   "source": [
    "Remove independent variables that exist only in train or test."
   ]
  },
  {
   "cell_type": "code",
   "execution_count": 15,
   "metadata": {},
   "outputs": [
    {
     "name": "stdout",
     "output_type": "stream",
     "text": [
      "[1] \"Drop: defaultyes\"\n"
     ]
    }
   ],
   "source": [
    "# List of independent variables to drop\n",
    "drop_vars <- setdiff(setdiff(names(train_processed), names(test_processed)), dv_var)\n",
    "print(paste(\"Drop:\", drop_vars))\n",
    "\n",
    "# Remove from train\n",
    "train_processed[drop_vars] <- NULL\n",
    "test_processed[drop_vars] <- NULL"
   ]
  },
  {
   "cell_type": "markdown",
   "metadata": {},
   "source": [
    "### 2. Train ML model\n",
    "\n",
    "Reference:\n",
    "- mlr integrated learners: https://mlr.mlr-org.com/articles/tutorial/integrated_learners.html"
   ]
  },
  {
   "cell_type": "markdown",
   "metadata": {},
   "source": [
    "#### 2.1. Logistic Regression"
   ]
  },
  {
   "cell_type": "code",
   "execution_count": 16,
   "metadata": {},
   "outputs": [
    {
     "name": "stderr",
     "output_type": "stream",
     "text": [
      "Resampling: cross-validation\n",
      "\n",
      "Measures:             auc.train   auc.test    \n",
      "\n",
      "[Resample] iter 1:    0.7869959   0.8281160   \n",
      "\n",
      "[Resample] iter 2:    0.7892520   0.7777833   \n",
      "\n",
      "[Resample] iter 3:    0.7879058   0.8101532   \n",
      "\n",
      "[Resample] iter 4:    0.7888427   0.8066781   \n",
      "\n",
      "[Resample] iter 5:    0.7912897   0.7513818   \n",
      "\n",
      "[Resample] iter 6:    0.7896663   0.7838074   \n",
      "\n",
      "[Resample] iter 7:    0.7897006   0.7780165   \n",
      "\n",
      "[Resample] iter 8:    0.7897897   0.7851188   \n",
      "\n",
      "[Resample] iter 9:    0.7914596   0.7418994   \n",
      "\n",
      "[Resample] iter 10:   0.7882390   0.8135399   \n",
      "\n",
      "[Resample] iter 11:   0.7881625   0.8079438   \n",
      "\n",
      "[Resample] iter 12:   0.7913900   0.7602046   \n",
      "\n",
      "[Resample] iter 13:   0.7913950   0.7549225   \n",
      "\n",
      "[Resample] iter 14:   0.7893254   0.7808376   \n",
      "\n",
      "[Resample] iter 15:   0.7911848   0.7485883   \n",
      "\n",
      "[Resample] iter 16:   0.7874064   0.8229715   \n",
      "\n",
      "[Resample] iter 17:   0.7883076   0.8141594   \n",
      "\n",
      "[Resample] iter 18:   0.7913632   0.7556744   \n",
      "\n",
      "[Resample] iter 19:   0.7911161   0.7586077   \n",
      "\n",
      "[Resample] iter 20:   0.7895340   0.7875077   \n",
      "\n",
      "\n",
      "\n",
      "\n",
      "Aggregated Result: auc.test.mean=0.7833956,auc.train.mean=0.7896163\n",
      "\n",
      "\n",
      "\n",
      "\n"
     ]
    }
   ],
   "source": [
    "# Set up cross-validation\n",
    "rdesc = makeResampleDesc(\"CV\", iters=20, predict=\"both\")\n",
    "\n",
    "# Define the model\n",
    "learner <- makeLearner(\"classif.logreg\", predict.type=\"prob\", fix.factors.prediction=T)\n",
    "\n",
    "# Define the task\n",
    "train_task <- makeClassifTask(id=\"bank_mkt\", data=train_processed, target=\"subscribe\")\n",
    "\n",
    "# Set hyper parameter tuning\n",
    "tune_params <- makeParamSet()\n",
    "ctrl = makeTuneControlGrid()\n",
    "\n",
    "# Run the hyper parameter tuning with k-fold CV\n",
    "if (length(tune_params$pars) > 0) {\n",
    "    # Run parameter tuning\n",
    "    res <- tuneParams(learner, task=train_task, resampling=rdesc,\n",
    "                      par.set=tune_params, control=ctrl, measures=list(mlr::auc))\n",
    "    \n",
    "    # Extract best model\n",
    "    best_learner <- res$learner\n",
    "    \n",
    "} else {\n",
    "    # Simple cross-validation\n",
    "    res <- resample(learner, train_task, rdesc, measures=list(mlr::auc, setAggregation(mlr::auc, train.mean)))\n",
    "    \n",
    "    # No parameter for tuning, only 1 best learner\n",
    "    best_learner <- learner\n",
    "}"
   ]
  },
  {
   "cell_type": "code",
   "execution_count": 17,
   "metadata": {},
   "outputs": [
    {
     "data": {
      "text/plain": [
       "Model for learner.id=classif.logreg; learner.class=classif.logreg\n",
       "Trained on: task.id = bank_mkt; obs = 20000; features = 61\n",
       "Hyperparameters: model=FALSE"
      ]
     },
     "metadata": {},
     "output_type": "display_data"
    }
   ],
   "source": [
    "# Retrain the model with tbe best hyper-parameters\n",
    "best_md <- mlr::train(best_learner, train_task)\n",
    "best_md"
   ]
  },
  {
   "cell_type": "code",
   "execution_count": 18,
   "metadata": {},
   "outputs": [
    {
     "data": {
      "text/plain": [
       "\n",
       "Call:\n",
       "stats::glm(formula = f, family = \"binomial\", data = getTaskData(.task, \n",
       "    .subset), weights = .weights, model = FALSE)\n",
       "\n",
       "Deviance Residuals: \n",
       "    Min       1Q   Median       3Q      Max  \n",
       "-2.1985  -0.4219  -0.3330  -0.2384   3.0692  \n",
       "\n",
       "Coefficients:\n",
       "                               Estimate Std. Error z value Pr(>|z|)    \n",
       "(Intercept)                  -4.305e-01  6.868e-01  -0.627 0.530806    \n",
       "age                           4.681e-03  2.717e-03   1.723 0.084934 .  \n",
       "campaign                     -4.620e-02  1.277e-02  -3.619 0.000296 ***\n",
       "pdays                        -5.783e-04  1.859e-04  -3.110 0.001871 ** \n",
       "previous                      2.410e-01  7.407e-02   3.254 0.001139 ** \n",
       "emp.var.rate                 -1.424e-01  3.949e-02  -3.605 0.000312 ***\n",
       "cons.price.idx               -3.232e-03  2.739e-03  -1.180 0.238008    \n",
       "cons.conf.idx                 9.303e-03  4.213e-03   2.208 0.027218 *  \n",
       "euribor3m                    -3.248e-01  3.658e-02  -8.880  < 2e-16 ***\n",
       "nr.employed                   7.296e-05  5.924e-05   1.232 0.218114    \n",
       "jobblue_collar               -2.122e-01  9.789e-02  -2.168 0.030158 *  \n",
       "jobentrepreneur              -3.558e-02  1.493e-01  -0.238 0.811607    \n",
       "jobhousemaid                  9.485e-03  1.767e-01   0.054 0.957199    \n",
       "jobmanagement                 4.893e-02  1.043e-01   0.469 0.638815    \n",
       "jobMissing                   -2.803e-01  3.012e-01  -0.931 0.351994    \n",
       "jobretired                    2.804e-01  1.295e-01   2.164 0.030426 *  \n",
       "jobself_employed             -2.121e-01  1.491e-01  -1.422 0.155069    \n",
       "jobservices                  -1.389e-01  1.069e-01  -1.299 0.193883    \n",
       "jobstudent                    3.382e-01  1.463e-01   2.312 0.020804 *  \n",
       "jobtechnician                -9.326e-03  8.770e-02  -0.106 0.915311    \n",
       "jobunemployed                 7.408e-02  1.580e-01   0.469 0.639263    \n",
       "jobunknown                    2.642e-03  2.800e-01   0.009 0.992470    \n",
       "maritalmarried                6.234e-02  8.479e-02   0.735 0.462157    \n",
       "maritalMissing                4.002e-01  2.360e-01   1.696 0.089932 .  \n",
       "maritalsingle                 1.881e-01  9.518e-02   1.976 0.048130 *  \n",
       "maritalunknown                1.022e+00  4.493e-01   2.274 0.022991 *  \n",
       "educationbasic.6y             9.572e-02  1.515e-01   0.632 0.527554    \n",
       "educationbasic.9y             6.131e-02  1.172e-01   0.523 0.600963    \n",
       "educationhigh.school          8.159e-02  1.141e-01   0.715 0.474526    \n",
       "educationilliterate           4.329e-02  1.118e+00   0.039 0.969099    \n",
       "educationMissing             -4.077e-02  3.005e-01  -0.136 0.892057    \n",
       "educationprofessional.course  5.118e-02  1.264e-01   0.405 0.685617    \n",
       "educationuniversity.degree    1.219e-01  1.141e-01   1.068 0.285302    \n",
       "educationunknown              2.197e-01  1.514e-01   1.451 0.146786    \n",
       "defaultno                    -3.105e-01  2.098e-01  -1.480 0.138869    \n",
       "defaultunknown               -6.346e-01  2.222e-01  -2.856 0.004294 ** \n",
       "housingno                    -2.898e-01  2.418e-01  -1.198 0.230792    \n",
       "housingunknown               -3.725e-01  1.186e+00  -0.314 0.753560    \n",
       "housingyes                   -3.143e-01  2.412e-01  -1.303 0.192515    \n",
       "loanno                       -1.230e-01  2.269e-01  -0.542 0.587761    \n",
       "loanunknown                   1.174e-02  1.209e+00   0.010 0.992249    \n",
       "loanyes                      -1.042e-01  2.342e-01  -0.445 0.656433    \n",
       "contactMissing               -7.282e-02  2.330e-01  -0.313 0.754620    \n",
       "contacttelephone             -1.534e-01  7.532e-02  -2.037 0.041693 *  \n",
       "monthaug                      1.750e-02  1.195e-01   0.146 0.883616    \n",
       "monthdec                      4.957e-01  2.448e-01   2.025 0.042848 *  \n",
       "monthjul                      4.665e-01  1.128e-01   4.134 3.56e-05 ***\n",
       "monthjun                      3.160e-01  1.121e-01   2.818 0.004835 ** \n",
       "monthmar                      1.170e+00  1.595e-01   7.337 2.18e-13 ***\n",
       "monthmay                     -5.585e-01  9.392e-02  -5.946 2.75e-09 ***\n",
       "monthMissing                 -9.024e-02  2.752e-01  -0.328 0.743011    \n",
       "monthnov                     -8.255e-02  1.188e-01  -0.695 0.487185    \n",
       "monthoct                      4.265e-01  1.503e-01   2.838 0.004537 ** \n",
       "monthsep                      4.001e-01  1.584e-01   2.526 0.011535 *  \n",
       "day_of_weekMissing            3.071e-02  2.651e-01   0.116 0.907788    \n",
       "day_of_weekmon               -2.331e-01  8.160e-02  -2.856 0.004286 ** \n",
       "day_of_weekthu                2.583e-02  7.889e-02   0.327 0.743387    \n",
       "day_of_weektue               -2.179e-03  8.186e-02  -0.027 0.978766    \n",
       "day_of_weekwed                6.366e-02  8.098e-02   0.786 0.431794    \n",
       "poutcomeMissing               3.772e-01  3.014e-01   1.252 0.210716    \n",
       "poutcomenonexistent           6.842e-01  1.216e-01   5.625 1.85e-08 ***\n",
       "poutcomesuccess               1.397e+00  1.996e-01   7.001 2.54e-12 ***\n",
       "---\n",
       "Signif. codes:  0 '***' 0.001 '**' 0.01 '*' 0.05 '.' 0.1 ' ' 1\n",
       "\n",
       "(Dispersion parameter for binomial family taken to be 1)\n",
       "\n",
       "    Null deviance: 14155  on 19999  degrees of freedom\n",
       "Residual deviance: 11264  on 19938  degrees of freedom\n",
       "AIC: 11388\n",
       "\n",
       "Number of Fisher Scoring iterations: 6\n"
      ]
     },
     "metadata": {},
     "output_type": "display_data"
    }
   ],
   "source": [
    "# Summary the best model\n",
    "summary(best_md$learner.model)"
   ]
  },
  {
   "cell_type": "code",
   "execution_count": 19,
   "metadata": {},
   "outputs": [
    {
     "data": {
      "text/plain": [
       "Prediction: 10000 observations\n",
       "predict.type: prob\n",
       "threshold: 0=0.50,1=0.50\n",
       "time: 0.02\n",
       "     prob.0     prob.1 response\n",
       "1 0.9073187 0.09268130        0\n",
       "2 0.9438906 0.05610942        0\n",
       "3 0.6093050 0.39069499        0\n",
       "4 0.8924933 0.10750669        0\n",
       "5 0.8828813 0.11711869        0\n",
       "6 0.3790033 0.62099669        1\n",
       "... (#rows: 10000, #cols: 3)"
      ]
     },
     "metadata": {},
     "output_type": "display_data"
    }
   ],
   "source": [
    "# Make prediction on test (holdout) data\n",
    "pred <- predict(best_md, newdata=test_processed)\n",
    "pred"
   ]
  },
  {
   "cell_type": "code",
   "execution_count": 20,
   "metadata": {},
   "outputs": [],
   "source": [
    "# Output predicted file\n",
    "output <- cbind(test[c(1)], subscribe=pred$data$prob.1)\n",
    "write.csv(output, './data/Kaggle/lr_submission_1.csv', row.names=FALSE)"
   ]
  },
  {
   "cell_type": "markdown",
   "metadata": {},
   "source": [
    "#### 2.2. Decision Tree"
   ]
  },
  {
   "cell_type": "code",
   "execution_count": 21,
   "metadata": {},
   "outputs": [
    {
     "name": "stderr",
     "output_type": "stream",
     "text": [
      "[Tune] Started tuning learner classif.rpart for parameter set:\n",
      "\n",
      "             Type len Def Constr Req Tunable Trafo\n",
      "maxdepth discrete   -   - 2,5,10   -    TRUE     -\n",
      "minsplit discrete   -   -  10,20   -    TRUE     -\n",
      "\n",
      "With control class: TuneControlGrid\n",
      "\n",
      "Imputation value: -0\n",
      "\n",
      "[Tune-x] 1: maxdepth=2; minsplit=10\n",
      "\n",
      "[Tune-y] 1: auc.test.mean=0.7035158; time: 0.1 min\n",
      "\n",
      "[Tune-x] 2: maxdepth=5; minsplit=10\n",
      "\n",
      "[Tune-y] 2: auc.test.mean=0.7035158; time: 0.2 min\n",
      "\n",
      "[Tune-x] 3: maxdepth=10; minsplit=10\n",
      "\n",
      "[Tune-y] 3: auc.test.mean=0.7035158; time: 0.2 min\n",
      "\n",
      "[Tune-x] 4: maxdepth=2; minsplit=20\n",
      "\n",
      "[Tune-y] 4: auc.test.mean=0.7035158; time: 0.1 min\n",
      "\n",
      "[Tune-x] 5: maxdepth=5; minsplit=20\n",
      "\n",
      "[Tune-y] 5: auc.test.mean=0.7035158; time: 0.2 min\n",
      "\n",
      "[Tune-x] 6: maxdepth=10; minsplit=20\n",
      "\n",
      "[Tune-y] 6: auc.test.mean=0.7035158; time: 0.2 min\n",
      "\n",
      "[Tune] Result: maxdepth=5; minsplit=20 : auc.test.mean=0.7035158\n",
      "\n"
     ]
    }
   ],
   "source": [
    "# Set up cross-validation\n",
    "rdesc = makeResampleDesc(\"CV\", iters=20, predict=\"both\")\n",
    "\n",
    "# Define the model\n",
    "learner <- makeLearner(\"classif.rpart\", predict.type=\"prob\", fix.factors.prediction=T)\n",
    "\n",
    "# Define the task\n",
    "train_task <- makeClassifTask(id=\"bank_mkt\", data=train_processed, target=\"subscribe\")\n",
    "\n",
    "# Set hyper parameter tuning\n",
    "tune_params <- makeParamSet(\n",
    "    makeDiscreteParam('maxdepth', value=c(2, 5, 10)),\n",
    "    makeDiscreteParam('minsplit', value=c(10, 20))\n",
    ")\n",
    "ctrl = makeTuneControlGrid()\n",
    "\n",
    "# Run the hyper parameter tuning with k-fold CV\n",
    "if (length(tune_params$pars) > 0) {\n",
    "    # Run parameter tuning\n",
    "    res <- tuneParams(learner, task=train_task, resampling=rdesc,\n",
    "                      par.set=tune_params, control=ctrl, measures=list(mlr::auc))\n",
    "    \n",
    "    # Extract best model\n",
    "    best_learner <- res$learner\n",
    "    \n",
    "} else {\n",
    "    # Simple cross-validation\n",
    "    res <- resample(learner, train_task, rdesc, measures=list(mlr::auc, setAggregation(mlr::auc, train.mean)))\n",
    "    \n",
    "    # No parameter for tuning, only 1 best learner\n",
    "    best_learner <- learner\n",
    "}"
   ]
  },
  {
   "cell_type": "code",
   "execution_count": 22,
   "metadata": {},
   "outputs": [
    {
     "data": {
      "text/plain": [
       "Model for learner.id=classif.rpart; learner.class=classif.rpart\n",
       "Trained on: task.id = bank_mkt; obs = 20000; features = 61\n",
       "Hyperparameters: xval=0"
      ]
     },
     "metadata": {},
     "output_type": "display_data"
    }
   ],
   "source": [
    "# Retrain the model with tbe best hyper-parameters\n",
    "best_md <- mlr::train(best_learner, train_task)\n",
    "best_md"
   ]
  },
  {
   "cell_type": "code",
   "execution_count": 23,
   "metadata": {},
   "outputs": [
    {
     "name": "stdout",
     "output_type": "stream",
     "text": [
      "Call:\n",
      "rpart::rpart(formula = f, data = d, xval = 0)\n",
      "  n= 20000 \n",
      "\n",
      "          CP nsplit rel error\n",
      "1 0.05702334      0 1.0000000\n",
      "2 0.01000000      2 0.8859533\n",
      "\n",
      "Variable importance\n",
      "    nr.employed       euribor3m    emp.var.rate   cons.conf.idx poutcomesuccess \n",
      "             27              20              15              12              11 \n",
      " cons.price.idx           pdays \n",
      "             10               6 \n",
      "\n",
      "Node number 1: 20000 observations,    complexity param=0.05702334\n",
      "  predicted class=0  expected loss=0.11355  P(node) =1\n",
      "    class counts: 17729  2271\n",
      "   probabilities: 0.886 0.114 \n",
      "  left son=2 (17404 obs) right son=3 (2596 obs)\n",
      "  Primary splits:\n",
      "      nr.employed     < 5087.65 to the right, improve=559.8677, (0 missing)\n",
      "      euribor3m       < 1.2395  to the right, improve=512.3372, (0 missing)\n",
      "      poutcomesuccess < 0.5     to the left,  improve=423.3535, (0 missing)\n",
      "      pdays           < 513     to the right, improve=356.9348, (0 missing)\n",
      "      emp.var.rate    < -0.65   to the right, improve=341.4060, (0 missing)\n",
      "  Surrogate splits:\n",
      "      euribor3m       < 1.2395  to the right, agree=0.967, adj=0.743, (0 split)\n",
      "      emp.var.rate    < -2.35   to the right, agree=0.943, adj=0.557, (0 split)\n",
      "      cons.conf.idx   < -35.45  to the left,  agree=0.927, adj=0.436, (0 split)\n",
      "      cons.price.idx  < 92.7345 to the right, agree=0.917, adj=0.364, (0 split)\n",
      "      poutcomesuccess < 0.5     to the left,  agree=0.892, adj=0.168, (0 split)\n",
      "\n",
      "Node number 2: 17404 observations\n",
      "  predicted class=0  expected loss=0.06785796  P(node) =0.8702\n",
      "    class counts: 16223  1181\n",
      "   probabilities: 0.932 0.068 \n",
      "\n",
      "Node number 3: 2596 observations,    complexity param=0.05702334\n",
      "  predicted class=0  expected loss=0.4198767  P(node) =0.1298\n",
      "    class counts:  1506  1090\n",
      "   probabilities: 0.580 0.420 \n",
      "  left son=6 (2031 obs) right son=7 (565 obs)\n",
      "  Primary splits:\n",
      "      poutcomesuccess < 0.5     to the left,  improve=138.20010, (0 missing)\n",
      "      pdays           < 513     to the right, improve=136.34140, (0 missing)\n",
      "      euribor3m       < 1.2885  to the right, improve= 50.51817, (0 missing)\n",
      "      nr.employed     < 2481.8  to the left,  improve= 46.81242, (0 missing)\n",
      "      previous        < 0.5     to the left,  improve= 38.75969, (0 missing)\n",
      "  Surrogate splits:\n",
      "      pdays    < 16.5    to the right, agree=0.972, adj=0.871, (0 split)\n",
      "      previous < 1.5     to the left,  agree=0.797, adj=0.069, (0 split)\n",
      "\n",
      "Node number 6: 2031 observations\n",
      "  predicted class=0  expected loss=0.3338257  P(node) =0.10155\n",
      "    class counts:  1353   678\n",
      "   probabilities: 0.666 0.334 \n",
      "\n",
      "Node number 7: 565 observations\n",
      "  predicted class=1  expected loss=0.2707965  P(node) =0.02825\n",
      "    class counts:   153   412\n",
      "   probabilities: 0.271 0.729 \n",
      "\n"
     ]
    }
   ],
   "source": [
    "# Summary the best model\n",
    "summary(best_md$learner.model)"
   ]
  },
  {
   "cell_type": "code",
   "execution_count": 24,
   "metadata": {},
   "outputs": [
    {
     "data": {
      "text/plain": [
       "Prediction: 10000 observations\n",
       "predict.type: prob\n",
       "threshold: 0=0.50,1=0.50\n",
       "time: 0.02\n",
       "     prob.0     prob.1 response\n",
       "1 0.9321420 0.06785796        0\n",
       "2 0.9321420 0.06785796        0\n",
       "3 0.6661743 0.33382570        0\n",
       "4 0.9321420 0.06785796        0\n",
       "5 0.9321420 0.06785796        0\n",
       "6 0.2707965 0.72920354        1\n",
       "... (#rows: 10000, #cols: 3)"
      ]
     },
     "metadata": {},
     "output_type": "display_data"
    }
   ],
   "source": [
    "# Make prediction on test (holdout) data\n",
    "pred <- predict(best_md, newdata=test_processed)\n",
    "pred"
   ]
  },
  {
   "cell_type": "code",
   "execution_count": 25,
   "metadata": {},
   "outputs": [],
   "source": [
    "# Output predicted file\n",
    "output <- cbind(test[c(1)], subscribe=pred$data$prob.1)\n",
    "write.csv(output, './data/Kaggle/dt_submission_1.csv', row.names=FALSE)"
   ]
  }
 ],
 "metadata": {
  "kernelspec": {
   "display_name": "R",
   "language": "R",
   "name": "python3102jvsc74a57bd0d7ff20910c5304552d0b4c1164dfc0a171c277810953fa1692cab57ae17a1bfb"
  },
  "language_info": {
   "codemirror_mode": "r",
   "file_extension": ".r",
   "mimetype": "text/x-r-source",
   "name": "R",
   "pygments_lexer": "r",
   "version": "4.0.5"
  }
 },
 "nbformat": 4,
 "nbformat_minor": 2
}
