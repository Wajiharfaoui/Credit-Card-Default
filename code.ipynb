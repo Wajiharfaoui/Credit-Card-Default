{
 "cells": [
  {
   "cell_type": "code",
   "execution_count": 286,
   "metadata": {},
   "outputs": [],
   "source": [
    "def benchmark(models,model_name,X_train,y_train,cv):\n",
    "    \n",
    "    measures = pd.DataFrame()\n",
    "    AUC_test = []\n",
    "    AUC_train = []\n",
    "    Score_test = []\n",
    "    Score_train =[]\n",
    "\n",
    "    for model,name in zip(models,model_name): \n",
    "        AUC_v = cross_validate(model, X_train, y_train, scoring='roc_auc', cv=cv,return_train_score=True)\n",
    "        AUC_test=AUC_v[\"test_score\"].mean()\n",
    "        AUC_train=AUC_v[\"train_score\"].mean()\n",
    "        Score_v = cross_validate(model, X_train, y_train, scoring='f1', cv=cv,return_train_score=True)\n",
    "        Score_test=Score_v[\"test_score\"].mean()\n",
    "        Score_train=Score_v[\"train_score\"].mean()\n",
    "        measures[name] = [AUC_test, Score_test,AUC_train,Score_train]\n",
    "        measures.index =['Test AUC Score', 'Test F-1 score','Train AUC Score', 'Train F-1 score']\n",
    "    return measures"
   ]
  },
  {
   "cell_type": "code",
   "execution_count": 309,
   "metadata": {},
   "outputs": [],
   "source": [
    "import pandas as pd \n",
    "import numpy as np\n",
    "from sklearn.linear_model import LogisticRegression\n",
    "from sklearn.discriminant_analysis import LinearDiscriminantAnalysis as LDA\n",
    "from sklearn.model_selection import RepeatedStratifiedKFold,RandomizedSearchCV\n",
    "from scipy.stats import loguniform\n",
    "import matplotlib.pyplot as plt\n",
    "from sklearn.neighbors import KNeighborsClassifier\n",
    "from sklearn.model_selection import cross_val_score,cross_validate\n",
    "from sklearn.tree import DecisionTreeClassifier\n",
    "from sklearn.svm import LinearSVC\n",
    "from imblearn.over_sampling import SMOTE\n",
    "from sklearn.preprocessing import MinMaxScaler\n",
    "from sklearn.feature_selection import SelectKBest\n",
    "from sklearn.feature_selection import f_classif\n",
    "import seaborn as sns"
   ]
  },
  {
   "cell_type": "code",
   "execution_count": 206,
   "metadata": {},
   "outputs": [],
   "source": [
    "def model_comparison(models,X_train,y_train,cv):\n",
    "    # Initiate a DataFrame for the averages and a list for all measures\n",
    "    \n",
    "    cv_accuracies = pd.DataFrame()\n",
    "    AUC = []\n",
    "    Accuracy = []\n",
    "\n",
    "    for model in models:\n",
    "        AUC_v = np.round(cross_val_score(model, X_train, y_train, scoring='roc_auc', cv=cv,), 4)\n",
    "        AUC=np.append(AUC,AUC_v)\n",
    "        AUC_avg = round(AUC_v.mean(), 4)\n",
    "        Accuracy_v = np.round(cross_val_score(model, X_train, y_train, scoring='f1', cv=cv), 4)\n",
    "        Accuracy=np.append(Accuracy,Accuracy_v)\n",
    "        Accuracy_avg = round(Accuracy_v.mean(), 4)\n",
    "        cv_accuracies[str(model)] = [AUC_avg,Accuracy_avg]\n",
    "    cv_accuracies.index = [\"AUC Score\",'Accuracy']\n",
    "    return cv_accuracies, AUC"
   ]
  },
  {
   "cell_type": "markdown",
   "metadata": {},
   "source": [
    "## Data exploratory and preprocessing"
   ]
  },
  {
   "cell_type": "code",
   "execution_count": 188,
   "metadata": {},
   "outputs": [],
   "source": [
    "# Read train data\n",
    "data = pd.read_csv('./Data/credit_default_train.csv')"
   ]
  },
  {
   "cell_type": "code",
   "execution_count": 189,
   "metadata": {},
   "outputs": [
    {
     "data": {
      "text/html": [
       "<div>\n",
       "<style scoped>\n",
       "    .dataframe tbody tr th:only-of-type {\n",
       "        vertical-align: middle;\n",
       "    }\n",
       "\n",
       "    .dataframe tbody tr th {\n",
       "        vertical-align: top;\n",
       "    }\n",
       "\n",
       "    .dataframe thead th {\n",
       "        text-align: right;\n",
       "    }\n",
       "</style>\n",
       "<table border=\"1\" class=\"dataframe\">\n",
       "  <thead>\n",
       "    <tr style=\"text-align: right;\">\n",
       "      <th></th>\n",
       "      <th>cust_id</th>\n",
       "      <th>LIMIT_BAL</th>\n",
       "      <th>SEX</th>\n",
       "      <th>EDUCATION</th>\n",
       "      <th>MARRIAGE</th>\n",
       "      <th>AGE</th>\n",
       "      <th>PAY_0</th>\n",
       "      <th>PAY_2</th>\n",
       "      <th>PAY_3</th>\n",
       "      <th>PAY_4</th>\n",
       "      <th>...</th>\n",
       "      <th>BILL_AMT4</th>\n",
       "      <th>BILL_AMT5</th>\n",
       "      <th>BILL_AMT6</th>\n",
       "      <th>PAY_AMT1</th>\n",
       "      <th>PAY_AMT2</th>\n",
       "      <th>PAY_AMT3</th>\n",
       "      <th>PAY_AMT4</th>\n",
       "      <th>PAY_AMT5</th>\n",
       "      <th>PAY_AMT6</th>\n",
       "      <th>default.payment.next.month</th>\n",
       "    </tr>\n",
       "  </thead>\n",
       "  <tbody>\n",
       "    <tr>\n",
       "      <th>0</th>\n",
       "      <td>18895</td>\n",
       "      <td>70000.0</td>\n",
       "      <td>1.0</td>\n",
       "      <td>3.0</td>\n",
       "      <td>2.0</td>\n",
       "      <td>34.0</td>\n",
       "      <td>0.0</td>\n",
       "      <td>0.0</td>\n",
       "      <td>0.0</td>\n",
       "      <td>0.0</td>\n",
       "      <td>...</td>\n",
       "      <td>25559.0</td>\n",
       "      <td>26134.0</td>\n",
       "      <td>26715.0</td>\n",
       "      <td>1700.0</td>\n",
       "      <td>1500.0</td>\n",
       "      <td>2000.0</td>\n",
       "      <td>1000.0</td>\n",
       "      <td>1000.0</td>\n",
       "      <td>2000.0</td>\n",
       "      <td>0</td>\n",
       "    </tr>\n",
       "    <tr>\n",
       "      <th>1</th>\n",
       "      <td>25102</td>\n",
       "      <td>390000.0</td>\n",
       "      <td>2.0</td>\n",
       "      <td>2.0</td>\n",
       "      <td>2.0</td>\n",
       "      <td>26.0</td>\n",
       "      <td>2.0</td>\n",
       "      <td>2.0</td>\n",
       "      <td>2.0</td>\n",
       "      <td>0.0</td>\n",
       "      <td>...</td>\n",
       "      <td>140387.0</td>\n",
       "      <td>128112.0</td>\n",
       "      <td>115514.0</td>\n",
       "      <td>5000.0</td>\n",
       "      <td>3000.0</td>\n",
       "      <td>5000.0</td>\n",
       "      <td>4548.0</td>\n",
       "      <td>4100.0</td>\n",
       "      <td>3300.0</td>\n",
       "      <td>0</td>\n",
       "    </tr>\n",
       "    <tr>\n",
       "      <th>2</th>\n",
       "      <td>28867</td>\n",
       "      <td>60000.0</td>\n",
       "      <td>1.0</td>\n",
       "      <td>1.0</td>\n",
       "      <td>2.0</td>\n",
       "      <td>27.0</td>\n",
       "      <td>0.0</td>\n",
       "      <td>0.0</td>\n",
       "      <td>0.0</td>\n",
       "      <td>0.0</td>\n",
       "      <td>...</td>\n",
       "      <td>26038.0</td>\n",
       "      <td>28607.0</td>\n",
       "      <td>27997.0</td>\n",
       "      <td>1378.0</td>\n",
       "      <td>1406.0</td>\n",
       "      <td>3000.0</td>\n",
       "      <td>3000.0</td>\n",
       "      <td>0.0</td>\n",
       "      <td>923.0</td>\n",
       "      <td>1</td>\n",
       "    </tr>\n",
       "    <tr>\n",
       "      <th>3</th>\n",
       "      <td>1842</td>\n",
       "      <td>140000.0</td>\n",
       "      <td>2.0</td>\n",
       "      <td>2.0</td>\n",
       "      <td>1.0</td>\n",
       "      <td>55.0</td>\n",
       "      <td>0.0</td>\n",
       "      <td>0.0</td>\n",
       "      <td>0.0</td>\n",
       "      <td>0.0</td>\n",
       "      <td>...</td>\n",
       "      <td>72391.0</td>\n",
       "      <td>61298.0</td>\n",
       "      <td>62193.0</td>\n",
       "      <td>4200.0</td>\n",
       "      <td>2822.0</td>\n",
       "      <td>2336.0</td>\n",
       "      <td>2588.0</td>\n",
       "      <td>2250.0</td>\n",
       "      <td>2491.0</td>\n",
       "      <td>0</td>\n",
       "    </tr>\n",
       "    <tr>\n",
       "      <th>4</th>\n",
       "      <td>3371</td>\n",
       "      <td>50000.0</td>\n",
       "      <td>1.0</td>\n",
       "      <td>1.0</td>\n",
       "      <td>2.0</td>\n",
       "      <td>29.0</td>\n",
       "      <td>2.0</td>\n",
       "      <td>2.0</td>\n",
       "      <td>2.0</td>\n",
       "      <td>0.0</td>\n",
       "      <td>...</td>\n",
       "      <td>1047.0</td>\n",
       "      <td>0.0</td>\n",
       "      <td>0.0</td>\n",
       "      <td>3000.0</td>\n",
       "      <td>0.0</td>\n",
       "      <td>1000.0</td>\n",
       "      <td>0.0</td>\n",
       "      <td>0.0</td>\n",
       "      <td>0.0</td>\n",
       "      <td>1</td>\n",
       "    </tr>\n",
       "  </tbody>\n",
       "</table>\n",
       "<p>5 rows × 25 columns</p>\n",
       "</div>"
      ],
      "text/plain": [
       "   cust_id  LIMIT_BAL  SEX  EDUCATION  MARRIAGE   AGE  PAY_0  PAY_2  PAY_3  \\\n",
       "0    18895    70000.0  1.0        3.0       2.0  34.0    0.0    0.0    0.0   \n",
       "1    25102   390000.0  2.0        2.0       2.0  26.0    2.0    2.0    2.0   \n",
       "2    28867    60000.0  1.0        1.0       2.0  27.0    0.0    0.0    0.0   \n",
       "3     1842   140000.0  2.0        2.0       1.0  55.0    0.0    0.0    0.0   \n",
       "4     3371    50000.0  1.0        1.0       2.0  29.0    2.0    2.0    2.0   \n",
       "\n",
       "   PAY_4  ...  BILL_AMT4  BILL_AMT5  BILL_AMT6  PAY_AMT1  PAY_AMT2  PAY_AMT3  \\\n",
       "0    0.0  ...    25559.0    26134.0    26715.0    1700.0    1500.0    2000.0   \n",
       "1    0.0  ...   140387.0   128112.0   115514.0    5000.0    3000.0    5000.0   \n",
       "2    0.0  ...    26038.0    28607.0    27997.0    1378.0    1406.0    3000.0   \n",
       "3    0.0  ...    72391.0    61298.0    62193.0    4200.0    2822.0    2336.0   \n",
       "4    0.0  ...     1047.0        0.0        0.0    3000.0       0.0    1000.0   \n",
       "\n",
       "   PAY_AMT4  PAY_AMT5  PAY_AMT6  default.payment.next.month  \n",
       "0    1000.0    1000.0    2000.0                           0  \n",
       "1    4548.0    4100.0    3300.0                           0  \n",
       "2    3000.0       0.0     923.0                           1  \n",
       "3    2588.0    2250.0    2491.0                           0  \n",
       "4       0.0       0.0       0.0                           1  \n",
       "\n",
       "[5 rows x 25 columns]"
      ]
     },
     "execution_count": 189,
     "metadata": {},
     "output_type": "execute_result"
    }
   ],
   "source": [
    "data.head()"
   ]
  },
  {
   "cell_type": "code",
   "execution_count": 190,
   "metadata": {},
   "outputs": [],
   "source": [
    "data[\"AGE\"] = pd.to_numeric(data[\"AGE\"])"
   ]
  },
  {
   "cell_type": "code",
   "execution_count": 191,
   "metadata": {},
   "outputs": [],
   "source": [
    "data.loc[data[\"SEX\"]==1,\"SEX\"]=\"Male\"\n",
    "data.loc[data[\"SEX\"]==2,\"SEX\"]=\"Female\"\n",
    "data.loc[data[\"EDUCATION\"]==1,\"EDUCATION\"]=\"G_School\"\n",
    "data.loc[data[\"EDUCATION\"]==2,\"EDUCATION\"]=\"Uni\"\n",
    "data.loc[data[\"EDUCATION\"]==3,\"EDUCATION\"]=\"High_School\"\n",
    "data.loc[data[\"EDUCATION\"]==4,\"EDUCATION\"]=\"Other_edu\"\n",
    "data.loc[data[\"EDUCATION\"]==5,\"EDUCATION\"]=\"unknown\"\n",
    "data.loc[(data[\"EDUCATION\"]==6) |(data[\"EDUCATION\"]==0),\"EDUCATION\"]=\"unknown\"\n",
    "data.loc[data[\"MARRIAGE\"]==1,\"MARRIAGE\"]=\"married\"\n",
    "data.loc[data[\"MARRIAGE\"]==2,\"MARRIAGE\"]=\"single\"\n",
    "data.loc[(data[\"MARRIAGE\"]==3) |(data[\"MARRIAGE\"]==0),\"MARRIAGE\"]=\"Other_status\"\n",
    "data.loc[(data[\"AGE\"]>=21) & (data[\"AGE\"]<=39),\"AGE_Cate\"]=\"Young\"\n",
    "data.loc[(data[\"AGE\"]>=40) & (data[\"AGE\"]<=59),\"AGE_Cate\"]=\"Adult\"\n",
    "data.loc[data[\"AGE\"]>=60,\"AGE_Cate\"]=\"Old\""
   ]
  },
  {
   "cell_type": "code",
   "execution_count": 192,
   "metadata": {},
   "outputs": [],
   "source": [
    "sex_dummy = pd.get_dummies(data[\"SEX\"],drop_first=True)\n",
    "education_dummy = pd.get_dummies(data[\"EDUCATION\"],drop_first=True)\n",
    "mariage_dummy = pd.get_dummies(data[\"MARRIAGE\"],drop_first=True)\n",
    "age_dummy = pd.get_dummies(data[\"AGE_Cate\"],drop_first=True)"
   ]
  },
  {
   "cell_type": "code",
   "execution_count": 193,
   "metadata": {},
   "outputs": [],
   "source": [
    "data = pd.concat([data,sex_dummy,education_dummy,mariage_dummy,age_dummy], axis=1)"
   ]
  },
  {
   "cell_type": "code",
   "execution_count": 194,
   "metadata": {},
   "outputs": [
    {
     "data": {
      "text/html": [
       "<div>\n",
       "<style scoped>\n",
       "    .dataframe tbody tr th:only-of-type {\n",
       "        vertical-align: middle;\n",
       "    }\n",
       "\n",
       "    .dataframe tbody tr th {\n",
       "        vertical-align: top;\n",
       "    }\n",
       "\n",
       "    .dataframe thead th {\n",
       "        text-align: right;\n",
       "    }\n",
       "</style>\n",
       "<table border=\"1\" class=\"dataframe\">\n",
       "  <thead>\n",
       "    <tr style=\"text-align: right;\">\n",
       "      <th></th>\n",
       "      <th>cust_id</th>\n",
       "      <th>LIMIT_BAL</th>\n",
       "      <th>SEX</th>\n",
       "      <th>EDUCATION</th>\n",
       "      <th>MARRIAGE</th>\n",
       "      <th>AGE</th>\n",
       "      <th>PAY_0</th>\n",
       "      <th>PAY_2</th>\n",
       "      <th>PAY_3</th>\n",
       "      <th>PAY_4</th>\n",
       "      <th>...</th>\n",
       "      <th>AGE_Cate</th>\n",
       "      <th>Male</th>\n",
       "      <th>High_School</th>\n",
       "      <th>Other_edu</th>\n",
       "      <th>Uni</th>\n",
       "      <th>unknown</th>\n",
       "      <th>married</th>\n",
       "      <th>single</th>\n",
       "      <th>Old</th>\n",
       "      <th>Young</th>\n",
       "    </tr>\n",
       "  </thead>\n",
       "  <tbody>\n",
       "    <tr>\n",
       "      <th>0</th>\n",
       "      <td>18895</td>\n",
       "      <td>70000.0</td>\n",
       "      <td>Male</td>\n",
       "      <td>High_School</td>\n",
       "      <td>single</td>\n",
       "      <td>34.0</td>\n",
       "      <td>0.0</td>\n",
       "      <td>0.0</td>\n",
       "      <td>0.0</td>\n",
       "      <td>0.0</td>\n",
       "      <td>...</td>\n",
       "      <td>Young</td>\n",
       "      <td>1</td>\n",
       "      <td>1</td>\n",
       "      <td>0</td>\n",
       "      <td>0</td>\n",
       "      <td>0</td>\n",
       "      <td>0</td>\n",
       "      <td>1</td>\n",
       "      <td>0</td>\n",
       "      <td>1</td>\n",
       "    </tr>\n",
       "    <tr>\n",
       "      <th>1</th>\n",
       "      <td>25102</td>\n",
       "      <td>390000.0</td>\n",
       "      <td>Female</td>\n",
       "      <td>Uni</td>\n",
       "      <td>single</td>\n",
       "      <td>26.0</td>\n",
       "      <td>2.0</td>\n",
       "      <td>2.0</td>\n",
       "      <td>2.0</td>\n",
       "      <td>0.0</td>\n",
       "      <td>...</td>\n",
       "      <td>Young</td>\n",
       "      <td>0</td>\n",
       "      <td>0</td>\n",
       "      <td>0</td>\n",
       "      <td>1</td>\n",
       "      <td>0</td>\n",
       "      <td>0</td>\n",
       "      <td>1</td>\n",
       "      <td>0</td>\n",
       "      <td>1</td>\n",
       "    </tr>\n",
       "    <tr>\n",
       "      <th>2</th>\n",
       "      <td>28867</td>\n",
       "      <td>60000.0</td>\n",
       "      <td>Male</td>\n",
       "      <td>G_School</td>\n",
       "      <td>single</td>\n",
       "      <td>27.0</td>\n",
       "      <td>0.0</td>\n",
       "      <td>0.0</td>\n",
       "      <td>0.0</td>\n",
       "      <td>0.0</td>\n",
       "      <td>...</td>\n",
       "      <td>Young</td>\n",
       "      <td>1</td>\n",
       "      <td>0</td>\n",
       "      <td>0</td>\n",
       "      <td>0</td>\n",
       "      <td>0</td>\n",
       "      <td>0</td>\n",
       "      <td>1</td>\n",
       "      <td>0</td>\n",
       "      <td>1</td>\n",
       "    </tr>\n",
       "    <tr>\n",
       "      <th>3</th>\n",
       "      <td>1842</td>\n",
       "      <td>140000.0</td>\n",
       "      <td>Female</td>\n",
       "      <td>Uni</td>\n",
       "      <td>married</td>\n",
       "      <td>55.0</td>\n",
       "      <td>0.0</td>\n",
       "      <td>0.0</td>\n",
       "      <td>0.0</td>\n",
       "      <td>0.0</td>\n",
       "      <td>...</td>\n",
       "      <td>Adult</td>\n",
       "      <td>0</td>\n",
       "      <td>0</td>\n",
       "      <td>0</td>\n",
       "      <td>1</td>\n",
       "      <td>0</td>\n",
       "      <td>1</td>\n",
       "      <td>0</td>\n",
       "      <td>0</td>\n",
       "      <td>0</td>\n",
       "    </tr>\n",
       "    <tr>\n",
       "      <th>4</th>\n",
       "      <td>3371</td>\n",
       "      <td>50000.0</td>\n",
       "      <td>Male</td>\n",
       "      <td>G_School</td>\n",
       "      <td>single</td>\n",
       "      <td>29.0</td>\n",
       "      <td>2.0</td>\n",
       "      <td>2.0</td>\n",
       "      <td>2.0</td>\n",
       "      <td>0.0</td>\n",
       "      <td>...</td>\n",
       "      <td>Young</td>\n",
       "      <td>1</td>\n",
       "      <td>0</td>\n",
       "      <td>0</td>\n",
       "      <td>0</td>\n",
       "      <td>0</td>\n",
       "      <td>0</td>\n",
       "      <td>1</td>\n",
       "      <td>0</td>\n",
       "      <td>1</td>\n",
       "    </tr>\n",
       "  </tbody>\n",
       "</table>\n",
       "<p>5 rows × 35 columns</p>\n",
       "</div>"
      ],
      "text/plain": [
       "   cust_id  LIMIT_BAL     SEX    EDUCATION MARRIAGE   AGE  PAY_0  PAY_2  \\\n",
       "0    18895    70000.0    Male  High_School   single  34.0    0.0    0.0   \n",
       "1    25102   390000.0  Female          Uni   single  26.0    2.0    2.0   \n",
       "2    28867    60000.0    Male     G_School   single  27.0    0.0    0.0   \n",
       "3     1842   140000.0  Female          Uni  married  55.0    0.0    0.0   \n",
       "4     3371    50000.0    Male     G_School   single  29.0    2.0    2.0   \n",
       "\n",
       "   PAY_3  PAY_4  ...  AGE_Cate  Male  High_School  Other_edu  Uni  unknown  \\\n",
       "0    0.0    0.0  ...     Young     1            1          0    0        0   \n",
       "1    2.0    0.0  ...     Young     0            0          0    1        0   \n",
       "2    0.0    0.0  ...     Young     1            0          0    0        0   \n",
       "3    0.0    0.0  ...     Adult     0            0          0    1        0   \n",
       "4    2.0    0.0  ...     Young     1            0          0    0        0   \n",
       "\n",
       "   married  single  Old  Young  \n",
       "0        0       1    0      1  \n",
       "1        0       1    0      1  \n",
       "2        0       1    0      1  \n",
       "3        1       0    0      0  \n",
       "4        0       1    0      1  \n",
       "\n",
       "[5 rows x 35 columns]"
      ]
     },
     "execution_count": 194,
     "metadata": {},
     "output_type": "execute_result"
    }
   ],
   "source": [
    "data.head()"
   ]
  },
  {
   "cell_type": "code",
   "execution_count": 195,
   "metadata": {},
   "outputs": [
    {
     "data": {
      "text/plain": [
       "Index(['cust_id', 'LIMIT_BAL', 'SEX', 'EDUCATION', 'MARRIAGE', 'AGE', 'PAY_0',\n",
       "       'PAY_2', 'PAY_3', 'PAY_4', 'PAY_5', 'PAY_6', 'BILL_AMT1', 'BILL_AMT2',\n",
       "       'BILL_AMT3', 'BILL_AMT4', 'BILL_AMT5', 'BILL_AMT6', 'PAY_AMT1',\n",
       "       'PAY_AMT2', 'PAY_AMT3', 'PAY_AMT4', 'PAY_AMT5', 'PAY_AMT6',\n",
       "       'default.payment.next.month', 'AGE_Cate', 'Male', 'High_School',\n",
       "       'Other_edu', 'Uni', 'unknown', 'married', 'single', 'Old', 'Young'],\n",
       "      dtype='object')"
      ]
     },
     "execution_count": 195,
     "metadata": {},
     "output_type": "execute_result"
    }
   ],
   "source": [
    "data.columns"
   ]
  },
  {
   "cell_type": "code",
   "execution_count": 196,
   "metadata": {},
   "outputs": [
    {
     "data": {
      "text/plain": [
       "<AxesSubplot:>"
      ]
     },
     "execution_count": 196,
     "metadata": {},
     "output_type": "execute_result"
    },
    {
     "data": {
      "image/png": "[encoded data removed]",
      "text/plain": [
       "<Figure size 432x288 with 1 Axes>"
      ]
     },
     "metadata": {
      "needs_background": "light"
     },
     "output_type": "display_data"
    }
   ],
   "source": [
    "data[\"default.payment.next.month\"].hist()"
   ]
  },
  {
   "cell_type": "code",
   "execution_count": 197,
   "metadata": {},
   "outputs": [
    {
     "data": {
      "text/plain": [
       "0    0.7793\n",
       "1    0.2207\n",
       "Name: default.payment.next.month, dtype: float64"
      ]
     },
     "execution_count": 197,
     "metadata": {},
     "output_type": "execute_result"
    }
   ],
   "source": [
    "data[\"default.payment.next.month\"].value_counts(normalize=True)"
   ]
  },
  {
   "cell_type": "code",
   "execution_count": 198,
   "metadata": {},
   "outputs": [],
   "source": [
    "data['Bill_Total']= data[list(data.filter(regex='BILL_'))].mean(axis=1)\n",
    "data['Pay_AMT_Total']= data[list(data.filter(regex='PAY_AMT'))].mean(axis=1)"
   ]
  },
  {
   "cell_type": "code",
   "execution_count": 199,
   "metadata": {},
   "outputs": [
    {
     "data": {
      "text/plain": [
       "Index(['cust_id', 'LIMIT_BAL', 'SEX', 'EDUCATION', 'MARRIAGE', 'AGE', 'PAY_0',\n",
       "       'PAY_2', 'PAY_3', 'PAY_4', 'PAY_5', 'PAY_6', 'BILL_AMT1', 'BILL_AMT2',\n",
       "       'BILL_AMT3', 'BILL_AMT4', 'BILL_AMT5', 'BILL_AMT6', 'PAY_AMT1',\n",
       "       'PAY_AMT2', 'PAY_AMT3', 'PAY_AMT4', 'PAY_AMT5', 'PAY_AMT6',\n",
       "       'default.payment.next.month', 'AGE_Cate', 'Male', 'High_School',\n",
       "       'Other_edu', 'Uni', 'unknown', 'married', 'single', 'Old', 'Young',\n",
       "       'Bill_Total', 'Pay_AMT_Total'],\n",
       "      dtype='object')"
      ]
     },
     "execution_count": 199,
     "metadata": {},
     "output_type": "execute_result"
    }
   ],
   "source": [
    "data.columns"
   ]
  },
  {
   "cell_type": "code",
   "execution_count": 200,
   "metadata": {},
   "outputs": [],
   "source": [
    "data= data.drop(columns=['cust_id',\"SEX\",\"EDUCATION\",\"MARRIAGE\",\"AGE\",'BILL_AMT1', 'BILL_AMT2',\n",
    "       'BILL_AMT3', 'BILL_AMT4', 'BILL_AMT5', 'BILL_AMT6', 'PAY_AMT1',\n",
    "       'PAY_AMT2', 'PAY_AMT3', 'PAY_AMT4', 'PAY_AMT5', 'PAY_AMT6',\"AGE_Cate\"],)"
   ]
  },
  {
   "cell_type": "code",
   "execution_count": 201,
   "metadata": {},
   "outputs": [],
   "source": [
    "data= data.dropna().reset_index()"
   ]
  },
  {
   "cell_type": "code",
   "execution_count": 202,
   "metadata": {},
   "outputs": [],
   "source": [
    "X= pd.DataFrame(data.loc[:,['LIMIT_BAL', 'PAY_0', 'PAY_2', 'PAY_3', 'PAY_4', 'PAY_5', 'PAY_6', 'Male', 'High_School', 'Other_edu', 'Uni',\n",
    "       'unknown', 'married', 'single', 'Old', 'Young', 'Bill_Total',\n",
    "       'Pay_AMT_Total']])\n",
    "Y = data.loc[:,'default.payment.next.month']"
   ]
  },
  {
   "cell_type": "code",
   "execution_count": 203,
   "metadata": {},
   "outputs": [],
   "source": [
    "for column in X.columns:\n",
    "    feature = np.array(X[column]).reshape(-1,1)\n",
    "    scaler = MinMaxScaler()\n",
    "    scaler.fit(feature)\n",
    "    feature_scaled = scaler.transform(feature)\n",
    "    X[column]= pd.DataFrame(feature_scaled.reshape(1,-1)[0])"
   ]
  },
  {
   "cell_type": "markdown",
   "metadata": {},
   "source": [
    "## Feature selection using **F-value**"
   ]
  },
  {
   "cell_type": "code",
   "execution_count": 204,
   "metadata": {},
   "outputs": [],
   "source": [
    "# feature selection \n",
    "fs = SelectKBest(score_func=f_classif, k=15)\n",
    "fs.fit_transform(X, Y)\n",
    "idx = fs.get_support(indices=True)"
   ]
  },
  {
   "cell_type": "code",
   "execution_count": 205,
   "metadata": {},
   "outputs": [],
   "source": [
    "X = X.iloc[:,idx]"
   ]
  },
  {
   "cell_type": "code",
   "execution_count": 308,
   "metadata": {},
   "outputs": [
    {
     "data": {
      "text/html": [
       "<div>\n",
       "<style scoped>\n",
       "    .dataframe tbody tr th:only-of-type {\n",
       "        vertical-align: middle;\n",
       "    }\n",
       "\n",
       "    .dataframe tbody tr th {\n",
       "        vertical-align: top;\n",
       "    }\n",
       "\n",
       "    .dataframe thead th {\n",
       "        text-align: right;\n",
       "    }\n",
       "</style>\n",
       "<table border=\"1\" class=\"dataframe\">\n",
       "  <thead>\n",
       "    <tr style=\"text-align: right;\">\n",
       "      <th></th>\n",
       "      <th>LIMIT_BAL</th>\n",
       "      <th>PAY_0</th>\n",
       "      <th>PAY_2</th>\n",
       "      <th>PAY_3</th>\n",
       "      <th>PAY_4</th>\n",
       "      <th>PAY_5</th>\n",
       "      <th>PAY_6</th>\n",
       "      <th>Male</th>\n",
       "      <th>High_School</th>\n",
       "      <th>Other_edu</th>\n",
       "      <th>Uni</th>\n",
       "      <th>unknown</th>\n",
       "      <th>married</th>\n",
       "      <th>single</th>\n",
       "      <th>Pay_AMT_Total</th>\n",
       "    </tr>\n",
       "  </thead>\n",
       "  <tbody>\n",
       "    <tr>\n",
       "      <th>0</th>\n",
       "      <td>0.060606</td>\n",
       "      <td>0.2</td>\n",
       "      <td>0.2</td>\n",
       "      <td>0.2</td>\n",
       "      <td>0.2</td>\n",
       "      <td>0.2</td>\n",
       "      <td>0.2</td>\n",
       "      <td>1.0</td>\n",
       "      <td>1.0</td>\n",
       "      <td>0.0</td>\n",
       "      <td>0.0</td>\n",
       "      <td>0.0</td>\n",
       "      <td>0.0</td>\n",
       "      <td>1.0</td>\n",
       "      <td>0.003976</td>\n",
       "    </tr>\n",
       "    <tr>\n",
       "      <th>1</th>\n",
       "      <td>0.383838</td>\n",
       "      <td>0.4</td>\n",
       "      <td>0.4</td>\n",
       "      <td>0.4</td>\n",
       "      <td>0.2</td>\n",
       "      <td>0.2</td>\n",
       "      <td>0.2</td>\n",
       "      <td>0.0</td>\n",
       "      <td>0.0</td>\n",
       "      <td>0.0</td>\n",
       "      <td>1.0</td>\n",
       "      <td>0.0</td>\n",
       "      <td>0.0</td>\n",
       "      <td>1.0</td>\n",
       "      <td>0.010781</td>\n",
       "    </tr>\n",
       "    <tr>\n",
       "      <th>2</th>\n",
       "      <td>0.050505</td>\n",
       "      <td>0.2</td>\n",
       "      <td>0.2</td>\n",
       "      <td>0.2</td>\n",
       "      <td>0.2</td>\n",
       "      <td>0.2</td>\n",
       "      <td>0.4</td>\n",
       "      <td>1.0</td>\n",
       "      <td>0.0</td>\n",
       "      <td>0.0</td>\n",
       "      <td>0.0</td>\n",
       "      <td>0.0</td>\n",
       "      <td>0.0</td>\n",
       "      <td>1.0</td>\n",
       "      <td>0.004195</td>\n",
       "    </tr>\n",
       "    <tr>\n",
       "      <th>3</th>\n",
       "      <td>0.131313</td>\n",
       "      <td>0.2</td>\n",
       "      <td>0.2</td>\n",
       "      <td>0.2</td>\n",
       "      <td>0.2</td>\n",
       "      <td>0.2</td>\n",
       "      <td>0.2</td>\n",
       "      <td>0.0</td>\n",
       "      <td>0.0</td>\n",
       "      <td>0.0</td>\n",
       "      <td>1.0</td>\n",
       "      <td>0.0</td>\n",
       "      <td>1.0</td>\n",
       "      <td>0.0</td>\n",
       "      <td>0.007211</td>\n",
       "    </tr>\n",
       "    <tr>\n",
       "      <th>4</th>\n",
       "      <td>0.040404</td>\n",
       "      <td>0.4</td>\n",
       "      <td>0.4</td>\n",
       "      <td>0.4</td>\n",
       "      <td>0.2</td>\n",
       "      <td>0.2</td>\n",
       "      <td>0.0</td>\n",
       "      <td>1.0</td>\n",
       "      <td>0.0</td>\n",
       "      <td>0.0</td>\n",
       "      <td>0.0</td>\n",
       "      <td>0.0</td>\n",
       "      <td>0.0</td>\n",
       "      <td>1.0</td>\n",
       "      <td>0.001728</td>\n",
       "    </tr>\n",
       "    <tr>\n",
       "      <th>...</th>\n",
       "      <td>...</td>\n",
       "      <td>...</td>\n",
       "      <td>...</td>\n",
       "      <td>...</td>\n",
       "      <td>...</td>\n",
       "      <td>...</td>\n",
       "      <td>...</td>\n",
       "      <td>...</td>\n",
       "      <td>...</td>\n",
       "      <td>...</td>\n",
       "      <td>...</td>\n",
       "      <td>...</td>\n",
       "      <td>...</td>\n",
       "      <td>...</td>\n",
       "      <td>...</td>\n",
       "    </tr>\n",
       "    <tr>\n",
       "      <th>18615</th>\n",
       "      <td>0.494949</td>\n",
       "      <td>0.3</td>\n",
       "      <td>0.0</td>\n",
       "      <td>0.1</td>\n",
       "      <td>0.2</td>\n",
       "      <td>0.2</td>\n",
       "      <td>0.2</td>\n",
       "      <td>1.0</td>\n",
       "      <td>0.0</td>\n",
       "      <td>0.0</td>\n",
       "      <td>1.0</td>\n",
       "      <td>0.0</td>\n",
       "      <td>0.0</td>\n",
       "      <td>1.0</td>\n",
       "      <td>0.082997</td>\n",
       "    </tr>\n",
       "    <tr>\n",
       "      <th>18616</th>\n",
       "      <td>0.020202</td>\n",
       "      <td>0.2</td>\n",
       "      <td>0.2</td>\n",
       "      <td>0.2</td>\n",
       "      <td>0.2</td>\n",
       "      <td>0.2</td>\n",
       "      <td>0.2</td>\n",
       "      <td>1.0</td>\n",
       "      <td>1.0</td>\n",
       "      <td>0.0</td>\n",
       "      <td>0.0</td>\n",
       "      <td>0.0</td>\n",
       "      <td>0.0</td>\n",
       "      <td>1.0</td>\n",
       "      <td>0.005192</td>\n",
       "    </tr>\n",
       "    <tr>\n",
       "      <th>18617</th>\n",
       "      <td>0.010101</td>\n",
       "      <td>0.3</td>\n",
       "      <td>0.4</td>\n",
       "      <td>0.6</td>\n",
       "      <td>0.5</td>\n",
       "      <td>0.4</td>\n",
       "      <td>0.4</td>\n",
       "      <td>1.0</td>\n",
       "      <td>0.0</td>\n",
       "      <td>0.0</td>\n",
       "      <td>1.0</td>\n",
       "      <td>0.0</td>\n",
       "      <td>0.0</td>\n",
       "      <td>1.0</td>\n",
       "      <td>0.001080</td>\n",
       "    </tr>\n",
       "    <tr>\n",
       "      <th>18618</th>\n",
       "      <td>0.232323</td>\n",
       "      <td>0.2</td>\n",
       "      <td>0.2</td>\n",
       "      <td>0.2</td>\n",
       "      <td>0.2</td>\n",
       "      <td>0.2</td>\n",
       "      <td>0.2</td>\n",
       "      <td>1.0</td>\n",
       "      <td>0.0</td>\n",
       "      <td>0.0</td>\n",
       "      <td>1.0</td>\n",
       "      <td>0.0</td>\n",
       "      <td>0.0</td>\n",
       "      <td>1.0</td>\n",
       "      <td>0.070039</td>\n",
       "    </tr>\n",
       "    <tr>\n",
       "      <th>18619</th>\n",
       "      <td>0.121212</td>\n",
       "      <td>0.2</td>\n",
       "      <td>0.2</td>\n",
       "      <td>0.2</td>\n",
       "      <td>0.2</td>\n",
       "      <td>0.2</td>\n",
       "      <td>0.2</td>\n",
       "      <td>0.0</td>\n",
       "      <td>0.0</td>\n",
       "      <td>0.0</td>\n",
       "      <td>1.0</td>\n",
       "      <td>0.0</td>\n",
       "      <td>1.0</td>\n",
       "      <td>0.0</td>\n",
       "      <td>0.011717</td>\n",
       "    </tr>\n",
       "  </tbody>\n",
       "</table>\n",
       "<p>18620 rows × 15 columns</p>\n",
       "</div>"
      ],
      "text/plain": [
       "       LIMIT_BAL  PAY_0  PAY_2  PAY_3  PAY_4  PAY_5  PAY_6  Male  High_School  \\\n",
       "0       0.060606    0.2    0.2    0.2    0.2    0.2    0.2   1.0          1.0   \n",
       "1       0.383838    0.4    0.4    0.4    0.2    0.2    0.2   0.0          0.0   \n",
       "2       0.050505    0.2    0.2    0.2    0.2    0.2    0.4   1.0          0.0   \n",
       "3       0.131313    0.2    0.2    0.2    0.2    0.2    0.2   0.0          0.0   \n",
       "4       0.040404    0.4    0.4    0.4    0.2    0.2    0.0   1.0          0.0   \n",
       "...          ...    ...    ...    ...    ...    ...    ...   ...          ...   \n",
       "18615   0.494949    0.3    0.0    0.1    0.2    0.2    0.2   1.0          0.0   \n",
       "18616   0.020202    0.2    0.2    0.2    0.2    0.2    0.2   1.0          1.0   \n",
       "18617   0.010101    0.3    0.4    0.6    0.5    0.4    0.4   1.0          0.0   \n",
       "18618   0.232323    0.2    0.2    0.2    0.2    0.2    0.2   1.0          0.0   \n",
       "18619   0.121212    0.2    0.2    0.2    0.2    0.2    0.2   0.0          0.0   \n",
       "\n",
       "       Other_edu  Uni  unknown  married  single  Pay_AMT_Total  \n",
       "0            0.0  0.0      0.0      0.0     1.0       0.003976  \n",
       "1            0.0  1.0      0.0      0.0     1.0       0.010781  \n",
       "2            0.0  0.0      0.0      0.0     1.0       0.004195  \n",
       "3            0.0  1.0      0.0      1.0     0.0       0.007211  \n",
       "4            0.0  0.0      0.0      0.0     1.0       0.001728  \n",
       "...          ...  ...      ...      ...     ...            ...  \n",
       "18615        0.0  1.0      0.0      0.0     1.0       0.082997  \n",
       "18616        0.0  0.0      0.0      0.0     1.0       0.005192  \n",
       "18617        0.0  1.0      0.0      0.0     1.0       0.001080  \n",
       "18618        0.0  1.0      0.0      0.0     1.0       0.070039  \n",
       "18619        0.0  1.0      0.0      1.0     0.0       0.011717  \n",
       "\n",
       "[18620 rows x 15 columns]"
      ]
     },
     "execution_count": 308,
     "metadata": {},
     "output_type": "execute_result"
    }
   ],
   "source": [
    "X"
   ]
  },
  {
   "cell_type": "code",
   "execution_count": 207,
   "metadata": {},
   "outputs": [
    {
     "name": "stderr",
     "output_type": "stream",
     "text": [
      "C:\\tools\\Anaconda3\\envs\\py\\lib\\site-packages\\sklearn\\linear_model\\_logistic.py:814: ConvergenceWarning: lbfgs failed to converge (status=1):\n",
      "STOP: TOTAL NO. of ITERATIONS REACHED LIMIT.\n",
      "\n",
      "Increase the number of iterations (max_iter) or scale the data as shown in:\n",
      "    https://scikit-learn.org/stable/modules/preprocessing.html\n",
      "Please also refer to the documentation for alternative solver options:\n",
      "    https://scikit-learn.org/stable/modules/linear_model.html#logistic-regression\n",
      "  n_iter_i = _check_optimize_result(\n",
      "C:\\tools\\Anaconda3\\envs\\py\\lib\\site-packages\\sklearn\\linear_model\\_logistic.py:814: ConvergenceWarning: lbfgs failed to converge (status=1):\n",
      "STOP: TOTAL NO. of ITERATIONS REACHED LIMIT.\n",
      "\n",
      "Increase the number of iterations (max_iter) or scale the data as shown in:\n",
      "    https://scikit-learn.org/stable/modules/preprocessing.html\n",
      "Please also refer to the documentation for alternative solver options:\n",
      "    https://scikit-learn.org/stable/modules/linear_model.html#logistic-regression\n",
      "  n_iter_i = _check_optimize_result(\n",
      "C:\\tools\\Anaconda3\\envs\\py\\lib\\site-packages\\sklearn\\linear_model\\_logistic.py:814: ConvergenceWarning: lbfgs failed to converge (status=1):\n",
      "STOP: TOTAL NO. of ITERATIONS REACHED LIMIT.\n",
      "\n",
      "Increase the number of iterations (max_iter) or scale the data as shown in:\n",
      "    https://scikit-learn.org/stable/modules/preprocessing.html\n",
      "Please also refer to the documentation for alternative solver options:\n",
      "    https://scikit-learn.org/stable/modules/linear_model.html#logistic-regression\n",
      "  n_iter_i = _check_optimize_result(\n",
      "C:\\tools\\Anaconda3\\envs\\py\\lib\\site-packages\\sklearn\\linear_model\\_logistic.py:814: ConvergenceWarning: lbfgs failed to converge (status=1):\n",
      "STOP: TOTAL NO. of ITERATIONS REACHED LIMIT.\n",
      "\n",
      "Increase the number of iterations (max_iter) or scale the data as shown in:\n",
      "    https://scikit-learn.org/stable/modules/preprocessing.html\n",
      "Please also refer to the documentation for alternative solver options:\n",
      "    https://scikit-learn.org/stable/modules/linear_model.html#logistic-regression\n",
      "  n_iter_i = _check_optimize_result(\n",
      "C:\\tools\\Anaconda3\\envs\\py\\lib\\site-packages\\sklearn\\linear_model\\_logistic.py:814: ConvergenceWarning: lbfgs failed to converge (status=1):\n",
      "STOP: TOTAL NO. of ITERATIONS REACHED LIMIT.\n",
      "\n",
      "Increase the number of iterations (max_iter) or scale the data as shown in:\n",
      "    https://scikit-learn.org/stable/modules/preprocessing.html\n",
      "Please also refer to the documentation for alternative solver options:\n",
      "    https://scikit-learn.org/stable/modules/linear_model.html#logistic-regression\n",
      "  n_iter_i = _check_optimize_result(\n",
      "C:\\tools\\Anaconda3\\envs\\py\\lib\\site-packages\\sklearn\\linear_model\\_logistic.py:814: ConvergenceWarning: lbfgs failed to converge (status=1):\n",
      "STOP: TOTAL NO. of ITERATIONS REACHED LIMIT.\n",
      "\n",
      "Increase the number of iterations (max_iter) or scale the data as shown in:\n",
      "    https://scikit-learn.org/stable/modules/preprocessing.html\n",
      "Please also refer to the documentation for alternative solver options:\n",
      "    https://scikit-learn.org/stable/modules/linear_model.html#logistic-regression\n",
      "  n_iter_i = _check_optimize_result(\n"
     ]
    }
   ],
   "source": [
    "# Create the models to be tested\n",
    "LR = LogisticRegression()\n",
    "LDA_m = LDA()\n",
    "KNN = KNeighborsClassifier()\n",
    "DT = DecisionTreeClassifier()\n",
    "SVM = LinearSVC()\n",
    "\n",
    "# Put the models in a list to be used for Cross-Validation\n",
    "models = [LR, LDA_m, KNN,DT,SVM]\n",
    "\n",
    "# Run the Cross-Validation comparison with the models used in this analysis\n",
    "comparison, AUC = model_comparison(models, X,Y, 20)"
   ]
  },
  {
   "cell_type": "code",
   "execution_count": 208,
   "metadata": {},
   "outputs": [
    {
     "data": {
      "text/html": [
       "<div>\n",
       "<style scoped>\n",
       "    .dataframe tbody tr th:only-of-type {\n",
       "        vertical-align: middle;\n",
       "    }\n",
       "\n",
       "    .dataframe tbody tr th {\n",
       "        vertical-align: top;\n",
       "    }\n",
       "\n",
       "    .dataframe thead th {\n",
       "        text-align: right;\n",
       "    }\n",
       "</style>\n",
       "<table border=\"1\" class=\"dataframe\">\n",
       "  <thead>\n",
       "    <tr style=\"text-align: right;\">\n",
       "      <th></th>\n",
       "      <th>Logistic Regression</th>\n",
       "      <th>LDA</th>\n",
       "      <th>KNN</th>\n",
       "      <th>Decision Tree</th>\n",
       "      <th>SVM</th>\n",
       "    </tr>\n",
       "  </thead>\n",
       "  <tbody>\n",
       "    <tr>\n",
       "      <th>AUC Score</th>\n",
       "      <td>0.7124</td>\n",
       "      <td>0.7111</td>\n",
       "      <td>0.6958</td>\n",
       "      <td>0.6081</td>\n",
       "      <td>0.7129</td>\n",
       "    </tr>\n",
       "    <tr>\n",
       "      <th>Accuracy</th>\n",
       "      <td>0.8073</td>\n",
       "      <td>0.8096</td>\n",
       "      <td>0.7917</td>\n",
       "      <td>0.7221</td>\n",
       "      <td>0.7966</td>\n",
       "    </tr>\n",
       "  </tbody>\n",
       "</table>\n",
       "</div>"
      ],
      "text/plain": [
       "           Logistic Regression     LDA     KNN  Decision Tree     SVM\n",
       "AUC Score               0.7124  0.7111  0.6958         0.6081  0.7129\n",
       "Accuracy                0.8073  0.8096  0.7917         0.7221  0.7966"
      ]
     },
     "execution_count": 208,
     "metadata": {},
     "output_type": "execute_result"
    }
   ],
   "source": [
    "comparison.columns  = ['Logistic Regression', 'LDA', 'KNN','Decision Tree',\"SVM\"]\n",
    "comparison"
   ]
  },
  {
   "cell_type": "code",
   "execution_count": 530,
   "metadata": {},
   "outputs": [],
   "source": [
    "AUC_comp = pd.DataFrame(np.reshape(AUC, (5,20)), index=comparison.columns, columns=['1st Fold', '2nd Fold', '3rd Fold', \n",
    "                                                         '4th Fold','5th Fold', '6th Fold', '7th Fold', \n",
    "                                                         '8th Fold', '9th Fold', \n",
    "                                                         '10th Fold','11st Fold', '12nd Fold', '13rd Fold', \n",
    "                                                         '14th Fold','15th Fold', '16th Fold', '17th Fold', \n",
    "                                                         '18th Fold', '19th Fold', \n",
    "                                                         '20th Fold'])"
   ]
  },
  {
   "cell_type": "code",
   "execution_count": 531,
   "metadata": {},
   "outputs": [
    {
     "data": {
      "text/html": [
       "<div>\n",
       "<style scoped>\n",
       "    .dataframe tbody tr th:only-of-type {\n",
       "        vertical-align: middle;\n",
       "    }\n",
       "\n",
       "    .dataframe tbody tr th {\n",
       "        vertical-align: top;\n",
       "    }\n",
       "\n",
       "    .dataframe thead th {\n",
       "        text-align: right;\n",
       "    }\n",
       "</style>\n",
       "<table border=\"1\" class=\"dataframe\">\n",
       "  <thead>\n",
       "    <tr style=\"text-align: right;\">\n",
       "      <th></th>\n",
       "      <th>1st Fold</th>\n",
       "      <th>2nd Fold</th>\n",
       "      <th>3rd Fold</th>\n",
       "      <th>4th Fold</th>\n",
       "      <th>5th Fold</th>\n",
       "      <th>6th Fold</th>\n",
       "      <th>7th Fold</th>\n",
       "      <th>8th Fold</th>\n",
       "      <th>9th Fold</th>\n",
       "      <th>10th Fold</th>\n",
       "      <th>11st Fold</th>\n",
       "      <th>12nd Fold</th>\n",
       "      <th>13rd Fold</th>\n",
       "      <th>14th Fold</th>\n",
       "      <th>15th Fold</th>\n",
       "      <th>16th Fold</th>\n",
       "      <th>17th Fold</th>\n",
       "      <th>18th Fold</th>\n",
       "      <th>19th Fold</th>\n",
       "      <th>20th Fold</th>\n",
       "    </tr>\n",
       "  </thead>\n",
       "  <tbody>\n",
       "    <tr>\n",
       "      <th>Logistic Regression</th>\n",
       "      <td>0.7118</td>\n",
       "      <td>0.6969</td>\n",
       "      <td>0.6972</td>\n",
       "      <td>0.7141</td>\n",
       "      <td>0.7030</td>\n",
       "      <td>0.7763</td>\n",
       "      <td>0.6873</td>\n",
       "      <td>0.6836</td>\n",
       "      <td>0.7047</td>\n",
       "      <td>0.7229</td>\n",
       "      <td>0.7090</td>\n",
       "      <td>0.6947</td>\n",
       "      <td>0.7333</td>\n",
       "      <td>0.6927</td>\n",
       "      <td>0.6967</td>\n",
       "      <td>0.6845</td>\n",
       "      <td>0.6986</td>\n",
       "      <td>0.6985</td>\n",
       "      <td>0.7186</td>\n",
       "      <td>0.6852</td>\n",
       "    </tr>\n",
       "    <tr>\n",
       "      <th>LDA</th>\n",
       "      <td>0.7116</td>\n",
       "      <td>0.6949</td>\n",
       "      <td>0.7044</td>\n",
       "      <td>0.7143</td>\n",
       "      <td>0.7083</td>\n",
       "      <td>0.7874</td>\n",
       "      <td>0.6881</td>\n",
       "      <td>0.6828</td>\n",
       "      <td>0.7053</td>\n",
       "      <td>0.7228</td>\n",
       "      <td>0.7088</td>\n",
       "      <td>0.6986</td>\n",
       "      <td>0.7367</td>\n",
       "      <td>0.6966</td>\n",
       "      <td>0.6985</td>\n",
       "      <td>0.6864</td>\n",
       "      <td>0.6969</td>\n",
       "      <td>0.6978</td>\n",
       "      <td>0.7236</td>\n",
       "      <td>0.6847</td>\n",
       "    </tr>\n",
       "    <tr>\n",
       "      <th>KNN</th>\n",
       "      <td>0.6876</td>\n",
       "      <td>0.6769</td>\n",
       "      <td>0.6626</td>\n",
       "      <td>0.7131</td>\n",
       "      <td>0.7303</td>\n",
       "      <td>0.7499</td>\n",
       "      <td>0.6851</td>\n",
       "      <td>0.6582</td>\n",
       "      <td>0.6870</td>\n",
       "      <td>0.7059</td>\n",
       "      <td>0.6883</td>\n",
       "      <td>0.7232</td>\n",
       "      <td>0.7002</td>\n",
       "      <td>0.6925</td>\n",
       "      <td>0.6718</td>\n",
       "      <td>0.6612</td>\n",
       "      <td>0.6584</td>\n",
       "      <td>0.6859</td>\n",
       "      <td>0.7410</td>\n",
       "      <td>0.6629</td>\n",
       "    </tr>\n",
       "    <tr>\n",
       "      <th>Decision Tree</th>\n",
       "      <td>0.6351</td>\n",
       "      <td>0.6461</td>\n",
       "      <td>0.6275</td>\n",
       "      <td>0.6379</td>\n",
       "      <td>0.6392</td>\n",
       "      <td>0.6482</td>\n",
       "      <td>0.5924</td>\n",
       "      <td>0.5931</td>\n",
       "      <td>0.6092</td>\n",
       "      <td>0.6078</td>\n",
       "      <td>0.5912</td>\n",
       "      <td>0.5865</td>\n",
       "      <td>0.6224</td>\n",
       "      <td>0.6180</td>\n",
       "      <td>0.6017</td>\n",
       "      <td>0.5874</td>\n",
       "      <td>0.6044</td>\n",
       "      <td>0.6172</td>\n",
       "      <td>0.6307</td>\n",
       "      <td>0.6208</td>\n",
       "    </tr>\n",
       "    <tr>\n",
       "      <th>SVM</th>\n",
       "      <td>0.7149</td>\n",
       "      <td>0.6967</td>\n",
       "      <td>0.7097</td>\n",
       "      <td>0.7178</td>\n",
       "      <td>0.7115</td>\n",
       "      <td>0.7915</td>\n",
       "      <td>0.6894</td>\n",
       "      <td>0.6831</td>\n",
       "      <td>0.7076</td>\n",
       "      <td>0.7235</td>\n",
       "      <td>0.7058</td>\n",
       "      <td>0.7013</td>\n",
       "      <td>0.7386</td>\n",
       "      <td>0.6979</td>\n",
       "      <td>0.6972</td>\n",
       "      <td>0.6855</td>\n",
       "      <td>0.6993</td>\n",
       "      <td>0.6994</td>\n",
       "      <td>0.7229</td>\n",
       "      <td>0.6877</td>\n",
       "    </tr>\n",
       "  </tbody>\n",
       "</table>\n",
       "</div>"
      ],
      "text/plain": [
       "                     1st Fold  2nd Fold  3rd Fold  4th Fold  5th Fold  \\\n",
       "Logistic Regression    0.7118    0.6969    0.6972    0.7141    0.7030   \n",
       "LDA                    0.7116    0.6949    0.7044    0.7143    0.7083   \n",
       "KNN                    0.6876    0.6769    0.6626    0.7131    0.7303   \n",
       "Decision Tree          0.6351    0.6461    0.6275    0.6379    0.6392   \n",
       "SVM                    0.7149    0.6967    0.7097    0.7178    0.7115   \n",
       "\n",
       "                     6th Fold  7th Fold  8th Fold  9th Fold  10th Fold  \\\n",
       "Logistic Regression    0.7763    0.6873    0.6836    0.7047     0.7229   \n",
       "LDA                    0.7874    0.6881    0.6828    0.7053     0.7228   \n",
       "KNN                    0.7499    0.6851    0.6582    0.6870     0.7059   \n",
       "Decision Tree          0.6482    0.5924    0.5931    0.6092     0.6078   \n",
       "SVM                    0.7915    0.6894    0.6831    0.7076     0.7235   \n",
       "\n",
       "                     11st Fold  12nd Fold  13rd Fold  14th Fold  15th Fold  \\\n",
       "Logistic Regression     0.7090     0.6947     0.7333     0.6927     0.6967   \n",
       "LDA                     0.7088     0.6986     0.7367     0.6966     0.6985   \n",
       "KNN                     0.6883     0.7232     0.7002     0.6925     0.6718   \n",
       "Decision Tree           0.5912     0.5865     0.6224     0.6180     0.6017   \n",
       "SVM                     0.7058     0.7013     0.7386     0.6979     0.6972   \n",
       "\n",
       "                     16th Fold  17th Fold  18th Fold  19th Fold  20th Fold  \n",
       "Logistic Regression     0.6845     0.6986     0.6985     0.7186     0.6852  \n",
       "LDA                     0.6864     0.6969     0.6978     0.7236     0.6847  \n",
       "KNN                     0.6612     0.6584     0.6859     0.7410     0.6629  \n",
       "Decision Tree           0.5874     0.6044     0.6172     0.6307     0.6208  \n",
       "SVM                     0.6855     0.6993     0.6994     0.7229     0.6877  "
      ]
     },
     "execution_count": 531,
     "metadata": {},
     "output_type": "execute_result"
    }
   ],
   "source": [
    "AUC_comp"
   ]
  },
  {
   "cell_type": "markdown",
   "metadata": {},
   "source": [
    "## Over Sampling"
   ]
  },
  {
   "cell_type": "code",
   "execution_count": 209,
   "metadata": {},
   "outputs": [],
   "source": [
    "# define pipeline\n",
    "over = SMOTE(sampling_strategy=0.6)\n",
    "X_resampled,y_resampled = over.fit_resample(X,Y)"
   ]
  },
  {
   "cell_type": "code",
   "execution_count": 210,
   "metadata": {},
   "outputs": [
    {
     "data": {
      "text/plain": [
       "0    14490\n",
       "1     8694\n",
       "Name: default.payment.next.month, dtype: int64"
      ]
     },
     "execution_count": 210,
     "metadata": {},
     "output_type": "execute_result"
    }
   ],
   "source": [
    "y_resampled.value_counts()"
   ]
  },
  {
   "cell_type": "code",
   "execution_count": 211,
   "metadata": {},
   "outputs": [],
   "source": [
    "# Create the models to be tested\n",
    "LR = LogisticRegression()\n",
    "LDA_m = LDA()\n",
    "KNN = KNeighborsClassifier()\n",
    "DT = DecisionTreeClassifier()\n",
    "SVM = LinearSVC()\n",
    "\n",
    "# Put the models in a list to be used for Cross-Validation\n",
    "models = [LR, LDA_m, KNN,DT,SVM]\n",
    "\n",
    "# Run the Cross-Validation comparison with the models used in this analysis\n",
    "comparison_resampled, AUC = model_comparison(models, X_resampled, y_resampled, 20)"
   ]
  },
  {
   "cell_type": "code",
   "execution_count": 212,
   "metadata": {},
   "outputs": [
    {
     "data": {
      "text/html": [
       "<div>\n",
       "<style scoped>\n",
       "    .dataframe tbody tr th:only-of-type {\n",
       "        vertical-align: middle;\n",
       "    }\n",
       "\n",
       "    .dataframe tbody tr th {\n",
       "        vertical-align: top;\n",
       "    }\n",
       "\n",
       "    .dataframe thead th {\n",
       "        text-align: right;\n",
       "    }\n",
       "</style>\n",
       "<table border=\"1\" class=\"dataframe\">\n",
       "  <thead>\n",
       "    <tr style=\"text-align: right;\">\n",
       "      <th></th>\n",
       "      <th>Logistic Regression</th>\n",
       "      <th>LDA</th>\n",
       "      <th>KNN</th>\n",
       "      <th>Decision Tree</th>\n",
       "      <th>SVM</th>\n",
       "    </tr>\n",
       "  </thead>\n",
       "  <tbody>\n",
       "    <tr>\n",
       "      <th>AUC Score</th>\n",
       "      <td>0.7124</td>\n",
       "      <td>0.7111</td>\n",
       "      <td>0.6958</td>\n",
       "      <td>0.6081</td>\n",
       "      <td>0.7129</td>\n",
       "    </tr>\n",
       "    <tr>\n",
       "      <th>Accuracy</th>\n",
       "      <td>0.8073</td>\n",
       "      <td>0.8096</td>\n",
       "      <td>0.7917</td>\n",
       "      <td>0.7221</td>\n",
       "      <td>0.7966</td>\n",
       "    </tr>\n",
       "  </tbody>\n",
       "</table>\n",
       "</div>"
      ],
      "text/plain": [
       "           Logistic Regression     LDA     KNN  Decision Tree     SVM\n",
       "AUC Score               0.7124  0.7111  0.6958         0.6081  0.7129\n",
       "Accuracy                0.8073  0.8096  0.7917         0.7221  0.7966"
      ]
     },
     "execution_count": 212,
     "metadata": {},
     "output_type": "execute_result"
    }
   ],
   "source": [
    "comparison"
   ]
  },
  {
   "cell_type": "code",
   "execution_count": 213,
   "metadata": {},
   "outputs": [
    {
     "data": {
      "text/html": [
       "<div>\n",
       "<style scoped>\n",
       "    .dataframe tbody tr th:only-of-type {\n",
       "        vertical-align: middle;\n",
       "    }\n",
       "\n",
       "    .dataframe tbody tr th {\n",
       "        vertical-align: top;\n",
       "    }\n",
       "\n",
       "    .dataframe thead th {\n",
       "        text-align: right;\n",
       "    }\n",
       "</style>\n",
       "<table border=\"1\" class=\"dataframe\">\n",
       "  <thead>\n",
       "    <tr style=\"text-align: right;\">\n",
       "      <th></th>\n",
       "      <th>Logistic Regression</th>\n",
       "      <th>LDA</th>\n",
       "      <th>KNN</th>\n",
       "      <th>Decision Tree</th>\n",
       "      <th>SVM</th>\n",
       "    </tr>\n",
       "  </thead>\n",
       "  <tbody>\n",
       "    <tr>\n",
       "      <th>AUC Score</th>\n",
       "      <td>0.7169</td>\n",
       "      <td>0.7164</td>\n",
       "      <td>0.8029</td>\n",
       "      <td>0.7084</td>\n",
       "      <td>0.7178</td>\n",
       "    </tr>\n",
       "    <tr>\n",
       "      <th>Accuracy</th>\n",
       "      <td>0.7337</td>\n",
       "      <td>0.7338</td>\n",
       "      <td>0.7469</td>\n",
       "      <td>0.7221</td>\n",
       "      <td>0.7340</td>\n",
       "    </tr>\n",
       "  </tbody>\n",
       "</table>\n",
       "</div>"
      ],
      "text/plain": [
       "           Logistic Regression     LDA     KNN  Decision Tree     SVM\n",
       "AUC Score               0.7169  0.7164  0.8029         0.7084  0.7178\n",
       "Accuracy                0.7337  0.7338  0.7469         0.7221  0.7340"
      ]
     },
     "execution_count": 213,
     "metadata": {},
     "output_type": "execute_result"
    }
   ],
   "source": [
    "comparison_resampled.columns  = ['Logistic Regression', 'LDA', 'KNN','Decision Tree',\"SVM\"]\n",
    "comparison_resampled"
   ]
  },
  {
   "cell_type": "markdown",
   "metadata": {},
   "source": [
    "## Logistic Regression "
   ]
  },
  {
   "cell_type": "code",
   "execution_count": 214,
   "metadata": {},
   "outputs": [],
   "source": [
    "# define cv\n",
    "cv = RepeatedStratifiedKFold(n_splits=20, n_repeats=10, random_state=1)"
   ]
  },
  {
   "cell_type": "code",
   "execution_count": 215,
   "metadata": {},
   "outputs": [],
   "source": [
    "# Define scoring matrices\n",
    "scoring = {\"AUC\": \"roc_auc\", \"F1\":\"f1\"}"
   ]
  },
  {
   "cell_type": "code",
   "execution_count": 216,
   "metadata": {},
   "outputs": [],
   "source": [
    "# Logistic regression model initiation\n",
    "LR = LogisticRegression()"
   ]
  },
  {
   "cell_type": "code",
   "execution_count": 217,
   "metadata": {},
   "outputs": [],
   "source": [
    "# define search space\n",
    "space = dict()\n",
    "space['solver'] = ['sag','saga', 'liblinear']\n",
    "space['penalty'] = ['none', 'l1', 'l2', 'elasticnet']\n",
    "space['C'] = loguniform(1e-5, 100)"
   ]
  },
  {
   "cell_type": "code",
   "execution_count": 218,
   "metadata": {},
   "outputs": [],
   "source": [
    "# define search\n",
    "search = RandomizedSearchCV(LR, space, n_iter=60,scoring=scoring, n_jobs=-1, cv=cv, random_state=1,refit=\"F1\",return_train_score=True)"
   ]
  },
  {
   "cell_type": "code",
   "execution_count": 219,
   "metadata": {},
   "outputs": [
    {
     "name": "stderr",
     "output_type": "stream",
     "text": [
      "C:\\tools\\Anaconda3\\envs\\py\\lib\\site-packages\\sklearn\\model_selection\\_validation.py:372: FitFailedWarning: \n",
      "4000 fits failed out of a total of 12000.\n",
      "The score on these train-test partitions for these parameters will be set to nan.\n",
      "If these failures are not expected, you can try to debug them by setting error_score='raise'.\n",
      "\n",
      "Below are more details about the failures:\n",
      "--------------------------------------------------------------------------------\n",
      "1000 fits failed with the following error:\n",
      "Traceback (most recent call last):\n",
      "  File \"C:\\tools\\Anaconda3\\envs\\py\\lib\\site-packages\\sklearn\\model_selection\\_validation.py\", line 680, in _fit_and_score\n",
      "    estimator.fit(X_train, y_train, **fit_params)\n",
      "  File \"C:\\tools\\Anaconda3\\envs\\py\\lib\\site-packages\\sklearn\\linear_model\\_logistic.py\", line 1471, in fit\n",
      "    raise ValueError(\n",
      "ValueError: l1_ratio must be between 0 and 1; got (l1_ratio=None)\n",
      "\n",
      "--------------------------------------------------------------------------------\n",
      "1600 fits failed with the following error:\n",
      "Traceback (most recent call last):\n",
      "  File \"C:\\tools\\Anaconda3\\envs\\py\\lib\\site-packages\\sklearn\\model_selection\\_validation.py\", line 680, in _fit_and_score\n",
      "    estimator.fit(X_train, y_train, **fit_params)\n",
      "  File \"C:\\tools\\Anaconda3\\envs\\py\\lib\\site-packages\\sklearn\\linear_model\\_logistic.py\", line 1461, in fit\n",
      "    solver = _check_solver(self.solver, self.penalty, self.dual)\n",
      "  File \"C:\\tools\\Anaconda3\\envs\\py\\lib\\site-packages\\sklearn\\linear_model\\_logistic.py\", line 447, in _check_solver\n",
      "    raise ValueError(\n",
      "ValueError: Solver sag supports only 'l2' or 'none' penalties, got l1 penalty.\n",
      "\n",
      "--------------------------------------------------------------------------------\n",
      "600 fits failed with the following error:\n",
      "Traceback (most recent call last):\n",
      "  File \"C:\\tools\\Anaconda3\\envs\\py\\lib\\site-packages\\sklearn\\model_selection\\_validation.py\", line 680, in _fit_and_score\n",
      "    estimator.fit(X_train, y_train, **fit_params)\n",
      "  File \"C:\\tools\\Anaconda3\\envs\\py\\lib\\site-packages\\sklearn\\linear_model\\_logistic.py\", line 1461, in fit\n",
      "    solver = _check_solver(self.solver, self.penalty, self.dual)\n",
      "  File \"C:\\tools\\Anaconda3\\envs\\py\\lib\\site-packages\\sklearn\\linear_model\\_logistic.py\", line 464, in _check_solver\n",
      "    raise ValueError(\"penalty='none' is not supported for the liblinear solver\")\n",
      "ValueError: penalty='none' is not supported for the liblinear solver\n",
      "\n",
      "--------------------------------------------------------------------------------\n",
      "400 fits failed with the following error:\n",
      "Traceback (most recent call last):\n",
      "  File \"C:\\tools\\Anaconda3\\envs\\py\\lib\\site-packages\\sklearn\\model_selection\\_validation.py\", line 680, in _fit_and_score\n",
      "    estimator.fit(X_train, y_train, **fit_params)\n",
      "  File \"C:\\tools\\Anaconda3\\envs\\py\\lib\\site-packages\\sklearn\\linear_model\\_logistic.py\", line 1461, in fit\n",
      "    solver = _check_solver(self.solver, self.penalty, self.dual)\n",
      "  File \"C:\\tools\\Anaconda3\\envs\\py\\lib\\site-packages\\sklearn\\linear_model\\_logistic.py\", line 457, in _check_solver\n",
      "    raise ValueError(\n",
      "ValueError: Only 'saga' solver supports elasticnet penalty, got solver=liblinear.\n",
      "\n",
      "--------------------------------------------------------------------------------\n",
      "400 fits failed with the following error:\n",
      "Traceback (most recent call last):\n",
      "  File \"C:\\tools\\Anaconda3\\envs\\py\\lib\\site-packages\\sklearn\\model_selection\\_validation.py\", line 680, in _fit_and_score\n",
      "    estimator.fit(X_train, y_train, **fit_params)\n",
      "  File \"C:\\tools\\Anaconda3\\envs\\py\\lib\\site-packages\\sklearn\\linear_model\\_logistic.py\", line 1461, in fit\n",
      "    solver = _check_solver(self.solver, self.penalty, self.dual)\n",
      "  File \"C:\\tools\\Anaconda3\\envs\\py\\lib\\site-packages\\sklearn\\linear_model\\_logistic.py\", line 447, in _check_solver\n",
      "    raise ValueError(\n",
      "ValueError: Solver sag supports only 'l2' or 'none' penalties, got elasticnet penalty.\n",
      "\n",
      "  warnings.warn(some_fits_failed_message, FitFailedWarning)\n",
      "C:\\tools\\Anaconda3\\envs\\py\\lib\\site-packages\\sklearn\\model_selection\\_search.py:969: UserWarning: One or more of the test scores are non-finite: [0.71991575        nan 0.71991448        nan 0.69135216 0.6940926\n",
      " 0.66100523 0.64679753 0.70811651        nan 0.71985634        nan\n",
      " 0.71991217        nan 0.71955246        nan        nan 0.71991435\n",
      " 0.64694015        nan 0.71864525 0.70961706 0.71991457 0.64854588\n",
      " 0.71969289        nan 0.71991437 0.71108507 0.71991483 0.71820789\n",
      " 0.65241916        nan 0.71991613        nan 0.71991627 0.71981314\n",
      " 0.71989845 0.71991549 0.68859847        nan 0.70273431 0.71862455\n",
      " 0.68849247 0.68916896 0.5        0.653779   0.5               nan\n",
      "        nan        nan 0.5        0.71991472        nan 0.71991419\n",
      " 0.71086908 0.71991432        nan        nan        nan        nan]\n",
      "  warnings.warn(\n",
      "C:\\tools\\Anaconda3\\envs\\py\\lib\\site-packages\\sklearn\\model_selection\\_search.py:969: UserWarning: One or more of the train scores are non-finite: [0.72077886        nan 0.72077633        nan 0.69191361 0.69468958\n",
      " 0.66179795 0.64757741 0.70874101        nan 0.72070593        nan\n",
      " 0.7207776         nan 0.72041733        nan        nan 0.72077635\n",
      " 0.64771819        nan 0.71951358 0.71004443 0.72077634 0.64931817\n",
      " 0.72056017        nan 0.72077802 0.71177731 0.72077848 0.71907304\n",
      " 0.65320076        nan 0.72077751        nan 0.72077796 0.72063096\n",
      " 0.72075834 0.72077826 0.68865751        nan 0.70344609 0.71948759\n",
      " 0.68864724 0.6897174  0.5        0.65455963 0.5               nan\n",
      "        nan        nan 0.5        0.72077896        nan 0.72077633\n",
      " 0.71150352 0.72077634        nan        nan        nan        nan]\n",
      "  warnings.warn(\n",
      "C:\\tools\\Anaconda3\\envs\\py\\lib\\site-packages\\sklearn\\model_selection\\_search.py:969: UserWarning: One or more of the test scores are non-finite: [5.49748393e-01            nan 5.49787945e-01            nan\n",
      " 3.86941663e-01 4.36404891e-01 0.00000000e+00 0.00000000e+00\n",
      " 4.81379738e-01            nan 5.49640793e-01            nan\n",
      " 5.49781622e-01            nan 5.49731413e-01            nan\n",
      "            nan 5.49787945e-01 0.00000000e+00            nan\n",
      " 5.49058493e-01 5.27351705e-01 5.49787945e-01 0.00000000e+00\n",
      " 5.49665269e-01            nan 5.49799082e-01 5.44846701e-01\n",
      " 5.49848409e-01 5.48437280e-01 0.00000000e+00            nan\n",
      " 5.49800653e-01            nan 5.49827547e-01 5.49616108e-01\n",
      " 5.49740267e-01 5.49769449e-01 1.71861424e-03            nan\n",
      " 5.22819387e-01 5.49008165e-01 1.60340760e-04 3.49100704e-01\n",
      " 0.00000000e+00 0.00000000e+00 5.44883867e-03            nan\n",
      "            nan            nan 0.00000000e+00 5.49819006e-01\n",
      "            nan 5.49787945e-01 5.43929456e-01 5.49787945e-01\n",
      "            nan            nan            nan            nan]\n",
      "  warnings.warn(\n",
      "C:\\tools\\Anaconda3\\envs\\py\\lib\\site-packages\\sklearn\\model_selection\\_search.py:969: UserWarning: One or more of the train scores are non-finite: [5.50566027e-01            nan 5.50557562e-01            nan\n",
      " 3.87573703e-01 4.37400556e-01 0.00000000e+00 0.00000000e+00\n",
      " 4.82061360e-01            nan 5.50497670e-01            nan\n",
      " 5.50556970e-01            nan 5.50559031e-01            nan\n",
      "            nan 5.50556928e-01 0.00000000e+00            nan\n",
      " 5.49886664e-01 5.28143216e-01 5.50556503e-01 0.00000000e+00\n",
      " 5.50513366e-01            nan 5.50559447e-01 5.45319196e-01\n",
      " 5.50552686e-01 5.49283021e-01 0.00000000e+00            nan\n",
      " 5.50540020e-01            nan 5.50542884e-01 5.50453611e-01\n",
      " 5.50536102e-01 5.50541839e-01 1.88936445e-03            nan\n",
      " 5.23763920e-01 5.49841992e-01 1.19745346e-04 3.49999791e-01\n",
      " 0.00000000e+00 0.00000000e+00 5.45484563e-03            nan\n",
      "            nan            nan 0.00000000e+00 5.50550853e-01\n",
      "            nan 5.50556583e-01 5.44416606e-01 5.50555815e-01\n",
      "            nan            nan            nan            nan]\n",
      "  warnings.warn(\n",
      "C:\\tools\\Anaconda3\\envs\\py\\lib\\site-packages\\sklearn\\linear_model\\_logistic.py:1483: UserWarning: Setting penalty='none' will ignore the C and l1_ratio parameters\n",
      "  warnings.warn(\n"
     ]
    }
   ],
   "source": [
    "# fit the model with cv and hyperparameter\n",
    "LR_result = search.fit(X_resampled,y_resampled)"
   ]
  },
  {
   "cell_type": "code",
   "execution_count": 220,
   "metadata": {},
   "outputs": [
    {
     "name": "stdout",
     "output_type": "stream",
     "text": [
      "Best F1: 0.5498484087392389\n",
      "Best Hyperparameters: {'C': 0.0282759467303296, 'penalty': 'none', 'solver': 'sag'}\n",
      "0.7199148293080748\n"
     ]
    }
   ],
   "source": [
    "# summarize result\n",
    "print('Best F1: %s' % LR_result.best_score_)\n",
    "print('Best Hyperparameters: %s' % LR_result.best_params_)\n",
    "print(LR_result.cv_results_[\"mean_test_AUC\"][LR_result.best_index_])"
   ]
  },
  {
   "cell_type": "code",
   "execution_count": 221,
   "metadata": {},
   "outputs": [],
   "source": [
    "LR_final = LogisticRegression(C=15.245533915454045, penalty='l1', solver='saga')\n",
    "LR_final=LR_final.fit(X_resampled, y_resampled)"
   ]
  },
  {
   "cell_type": "markdown",
   "metadata": {},
   "source": [
    "## Linear discriminant analysis"
   ]
  },
  {
   "cell_type": "code",
   "execution_count": 222,
   "metadata": {},
   "outputs": [],
   "source": [
    "LDA_m = LDA()"
   ]
  },
  {
   "cell_type": "code",
   "execution_count": 223,
   "metadata": {},
   "outputs": [],
   "source": [
    "# define search space\n",
    "space = dict()\n",
    "space['solver'] = ['svd','lsqr','eigen']\n",
    "space['shrinkage']= np.arange(0, 1, 0.01)"
   ]
  },
  {
   "cell_type": "code",
   "execution_count": 224,
   "metadata": {},
   "outputs": [],
   "source": [
    "# define search\n",
    "search = RandomizedSearchCV(LDA_m, space, n_iter=60,scoring=scoring, n_jobs=-1, cv=cv, random_state=1,refit=\"F1\",return_train_score=True)"
   ]
  },
  {
   "cell_type": "code",
   "execution_count": 225,
   "metadata": {},
   "outputs": [
    {
     "name": "stderr",
     "output_type": "stream",
     "text": [
      "C:\\tools\\Anaconda3\\envs\\py\\lib\\site-packages\\sklearn\\model_selection\\_validation.py:372: FitFailedWarning: \n",
      "3800 fits failed out of a total of 12000.\n",
      "The score on these train-test partitions for these parameters will be set to nan.\n",
      "If these failures are not expected, you can try to debug them by setting error_score='raise'.\n",
      "\n",
      "Below are more details about the failures:\n",
      "--------------------------------------------------------------------------------\n",
      "3800 fits failed with the following error:\n",
      "Traceback (most recent call last):\n",
      "  File \"C:\\tools\\Anaconda3\\envs\\py\\lib\\site-packages\\sklearn\\model_selection\\_validation.py\", line 680, in _fit_and_score\n",
      "    estimator.fit(X_train, y_train, **fit_params)\n",
      "  File \"C:\\tools\\Anaconda3\\envs\\py\\lib\\site-packages\\sklearn\\discriminant_analysis.py\", line 583, in fit\n",
      "    raise NotImplementedError(\"shrinkage not supported\")\n",
      "NotImplementedError: shrinkage not supported\n",
      "\n",
      "  warnings.warn(some_fits_failed_message, FitFailedWarning)\n",
      "C:\\tools\\Anaconda3\\envs\\py\\lib\\site-packages\\sklearn\\model_selection\\_search.py:969: UserWarning: One or more of the test scores are non-finite: [       nan        nan 0.67963717        nan 0.68894996 0.68648535\n",
      " 0.68080915 0.69317048 0.65952232 0.66914145 0.66275473        nan\n",
      " 0.64744196 0.69533867 0.68716503        nan 0.70818693 0.68192894\n",
      " 0.67379123 0.70113275        nan 0.68858803 0.66697027        nan\n",
      "        nan        nan        nan        nan 0.65093735 0.67963717\n",
      " 0.68510079 0.66770707 0.67188638 0.69533867        nan 0.69118819\n",
      " 0.69043006 0.68230119 0.69235615 0.67437038 0.67379123        nan\n",
      " 0.67881101 0.71251941 0.69358918        nan        nan 0.68266778\n",
      " 0.70522707 0.67598554        nan 0.655593          nan 0.68080915\n",
      "        nan 0.68751426 0.69489698        nan 0.67492776 0.67837415]\n",
      "  warnings.warn(\n",
      "C:\\tools\\Anaconda3\\envs\\py\\lib\\site-packages\\sklearn\\model_selection\\_search.py:969: UserWarning: One or more of the train scores are non-finite: [       nan        nan 0.68023909        nan 0.68950169 0.68704623\n",
      " 0.68139806 0.69375699 0.66032455 0.66987061 0.66353956        nan\n",
      " 0.64821121 0.69594602 0.68773268        nan 0.70901421 0.68251805\n",
      " 0.67445313 0.70181779        nan 0.68914229 0.6677192         nan\n",
      "        nan        nan        nan        nan 0.65171593 0.68023909\n",
      " 0.68567256 0.66845531 0.67257327 0.69594602        nan 0.69174676\n",
      " 0.69097749 0.68288279 0.6929379  0.67503122 0.67445313        nan\n",
      " 0.67942132 0.71341771 0.69417632        nan        nan 0.68324611\n",
      " 0.70599351 0.67663841        nan 0.65639499        nan 0.68139806\n",
      "        nan 0.68807729 0.69549407        nan 0.67558655 0.67899304]\n",
      "  warnings.warn(\n",
      "C:\\tools\\Anaconda3\\envs\\py\\lib\\site-packages\\sklearn\\model_selection\\_search.py:969: UserWarning: One or more of the test scores are non-finite: [       nan        nan 0.45074748        nan 0.47896819 0.47027156\n",
      " 0.45426566 0.49166093 0.44447898 0.43817788 0.44018858        nan\n",
      " 0.45310946 0.4997441  0.47291577        nan 0.54293665 0.4574575\n",
      " 0.44536528 0.52609743        nan 0.47788593 0.43733924        nan\n",
      "        nan        nan        nan        nan 0.45340107 0.45074748\n",
      " 0.46688337 0.43724436 0.44401642 0.4997441         nan 0.4862183\n",
      " 0.48355582 0.45862124 0.48928061 0.44551298 0.44536528        nan\n",
      " 0.44898468 0.54551666 0.49277789        nan        nan 0.46010057\n",
      " 0.53817941 0.44498627        nan 0.44833272        nan 0.45426566\n",
      "        nan 0.47387318 0.49745222        nan 0.4456156  0.44820386]\n",
      "  warnings.warn(\n",
      "C:\\tools\\Anaconda3\\envs\\py\\lib\\site-packages\\sklearn\\model_selection\\_search.py:969: UserWarning: One or more of the train scores are non-finite: [       nan        nan 0.45147969        nan 0.47999425 0.47098336\n",
      " 0.45498022 0.49270453 0.4455416  0.43940858 0.44102189        nan\n",
      " 0.45449193 0.5002407  0.47342877        nan 0.54342763 0.45858039\n",
      " 0.44714617 0.52695206        nan 0.47885045 0.43816983        nan\n",
      "        nan        nan        nan        nan 0.4542879  0.45147969\n",
      " 0.46749565 0.43818708 0.44521403 0.5002407         nan 0.48710573\n",
      " 0.4846253  0.4597336  0.49010014 0.44720224 0.44714617        nan\n",
      " 0.4496218  0.54608772 0.49386863        nan        nan 0.46095416\n",
      " 0.53893546 0.44642175        nan 0.449402          nan 0.45498022\n",
      "        nan 0.47472805 0.49805671        nan 0.44713057 0.44867806]\n",
      "  warnings.warn(\n"
     ]
    }
   ],
   "source": [
    "LDA_result = search.fit(X_resampled, y_resampled)"
   ]
  },
  {
   "cell_type": "code",
   "execution_count": 226,
   "metadata": {},
   "outputs": [
    {
     "name": "stdout",
     "output_type": "stream",
     "text": [
      "Best F1: 0.5455166606499169\n",
      "Best Hyperparameters: {'solver': 'lsqr', 'shrinkage': 0.01}\n"
     ]
    }
   ],
   "source": [
    "# summarize result\n",
    "print('Best F1: %s' % LDA_result.best_score_)\n",
    "print('Best Hyperparameters: %s' % LDA_result.best_params_)"
   ]
  },
  {
   "cell_type": "code",
   "execution_count": 227,
   "metadata": {},
   "outputs": [],
   "source": [
    "LDA_final = LDA(solver='lsqr',shrinkage=0.01)\n",
    "LDA_final=LDA_final.fit(X_resampled, y_resampled)"
   ]
  },
  {
   "cell_type": "markdown",
   "metadata": {},
   "source": [
    "## K-nearest neighbors"
   ]
  },
  {
   "cell_type": "code",
   "execution_count": 228,
   "metadata": {},
   "outputs": [],
   "source": [
    "KNN = KNeighborsClassifier()"
   ]
  },
  {
   "cell_type": "code",
   "execution_count": 229,
   "metadata": {},
   "outputs": [],
   "source": [
    "# define search space\n",
    "space = dict()\n",
    "space['n_neighbors'] = [2,4,8,16,20,30,40,50,60]\n",
    "space['p']=[1,2]"
   ]
  },
  {
   "cell_type": "code",
   "execution_count": 230,
   "metadata": {},
   "outputs": [],
   "source": [
    "# define search\n",
    "search = RandomizedSearchCV(KNN, space, n_iter=60,scoring=scoring, n_jobs=-1, cv=cv, random_state=1,refit=\"F1\")"
   ]
  },
  {
   "cell_type": "code",
   "execution_count": 231,
   "metadata": {},
   "outputs": [
    {
     "name": "stderr",
     "output_type": "stream",
     "text": [
      "C:\\tools\\Anaconda3\\envs\\py\\lib\\site-packages\\sklearn\\model_selection\\_search.py:292: UserWarning: The total space of parameters 18 is smaller than n_iter=60. Running 18 iterations. For exhaustive searches, use GridSearchCV.\n",
      "  warnings.warn(\n"
     ]
    }
   ],
   "source": [
    "KNN_result = search.fit(X_resampled, y_resampled)"
   ]
  },
  {
   "cell_type": "code",
   "execution_count": 232,
   "metadata": {},
   "outputs": [
    {
     "name": "stdout",
     "output_type": "stream",
     "text": [
      "Best F1: 0.6292657437386413\n",
      "Best Hyperparameters: {'p': 1, 'n_neighbors': 8}\n"
     ]
    },
    {
     "data": {
      "text/plain": [
       "0.8073745516419146"
      ]
     },
     "execution_count": 232,
     "metadata": {},
     "output_type": "execute_result"
    }
   ],
   "source": [
    "# summarize result\n",
    "print('Best F1: %s' % KNN_result.best_score_)\n",
    "print('Best Hyperparameters: %s' % KNN_result.best_params_)\n",
    "KNN_result.cv_results_[\"mean_test_AUC\"][KNN_result.best_index_]"
   ]
  },
  {
   "cell_type": "code",
   "execution_count": 233,
   "metadata": {},
   "outputs": [],
   "source": [
    "KNN_final = KNeighborsClassifier(n_neighbors=8,p=2)\n",
    "KNN_final=KNN_final.fit(X_resampled, y_resampled)"
   ]
  },
  {
   "cell_type": "markdown",
   "metadata": {},
   "source": [
    "## Decision Tree"
   ]
  },
  {
   "cell_type": "code",
   "execution_count": 234,
   "metadata": {},
   "outputs": [],
   "source": [
    "DT = DecisionTreeClassifier()"
   ]
  },
  {
   "cell_type": "code",
   "execution_count": 235,
   "metadata": {},
   "outputs": [],
   "source": [
    "# define search space\n",
    "space = dict()\n",
    "space['criterion'] = [\"gini\",\"entropy\"]\n",
    "space['splitter']=[\"best\", \"random\"]\n",
    "space['min_samples_leaf']=[1,2,3,4,5,6,7,8,9,10]\n",
    "space['min_weight_fraction_leaf']=[0.1,0.2,0.3,0.4,0.5,0.6,0.7,0.8,0.9]\n",
    "space['max_features']=[\"auto\",\"log2\",\"sqrt\",None]\n",
    "space['max_leaf_nodes']=[None,10,20,30,40,50,60,70,80,90]"
   ]
  },
  {
   "cell_type": "code",
   "execution_count": 236,
   "metadata": {},
   "outputs": [],
   "source": [
    "# define search\n",
    "search = RandomizedSearchCV(DT, space, n_iter=60,scoring=scoring, n_jobs=-1, cv=cv, random_state=1,refit=\"F1\")"
   ]
  },
  {
   "cell_type": "code",
   "execution_count": 237,
   "metadata": {},
   "outputs": [
    {
     "name": "stderr",
     "output_type": "stream",
     "text": [
      "C:\\tools\\Anaconda3\\envs\\py\\lib\\site-packages\\sklearn\\model_selection\\_validation.py:372: FitFailedWarning: \n",
      "5600 fits failed out of a total of 12000.\n",
      "The score on these train-test partitions for these parameters will be set to nan.\n",
      "If these failures are not expected, you can try to debug them by setting error_score='raise'.\n",
      "\n",
      "Below are more details about the failures:\n",
      "--------------------------------------------------------------------------------\n",
      "5600 fits failed with the following error:\n",
      "Traceback (most recent call last):\n",
      "  File \"C:\\tools\\Anaconda3\\envs\\py\\lib\\site-packages\\sklearn\\model_selection\\_validation.py\", line 680, in _fit_and_score\n",
      "    estimator.fit(X_train, y_train, **fit_params)\n",
      "  File \"C:\\tools\\Anaconda3\\envs\\py\\lib\\site-packages\\sklearn\\tree\\_classes.py\", line 937, in fit\n",
      "    super().fit(\n",
      "  File \"C:\\tools\\Anaconda3\\envs\\py\\lib\\site-packages\\sklearn\\tree\\_classes.py\", line 304, in fit\n",
      "    raise ValueError(\"min_weight_fraction_leaf must in [0, 0.5]\")\n",
      "ValueError: min_weight_fraction_leaf must in [0, 0.5]\n",
      "\n",
      "  warnings.warn(some_fits_failed_message, FitFailedWarning)\n",
      "C:\\tools\\Anaconda3\\envs\\py\\lib\\site-packages\\sklearn\\model_selection\\_search.py:969: UserWarning: One or more of the test scores are non-finite: [       nan 0.57072515 0.57320618 0.5026908  0.51983776        nan\n",
      " 0.56548173        nan        nan 0.68856793        nan        nan\n",
      " 0.5        0.54523527        nan        nan        nan 0.5\n",
      "        nan        nan 0.62230647        nan        nan        nan\n",
      " 0.51136092 0.57354749 0.62159497        nan 0.51308491        nan\n",
      "        nan 0.54562065        nan        nan 0.57714483 0.67253173\n",
      " 0.51798511 0.51504305        nan 0.54262748 0.51246849 0.51710039\n",
      " 0.58842773 0.61182322 0.61182322        nan 0.58220626        nan\n",
      " 0.53838542        nan 0.61954046        nan 0.66747277 0.62000477\n",
      "        nan 0.51808747 0.54206306        nan        nan        nan]\n",
      "  warnings.warn(\n",
      "C:\\tools\\Anaconda3\\envs\\py\\lib\\site-packages\\sklearn\\model_selection\\_search.py:969: UserWarning: One or more of the test scores are non-finite: [       nan 0.1532281  0.04567211 0.         0.                nan\n",
      " 0.1368012         nan        nan 0.4704332         nan        nan\n",
      " 0.         0.                nan        nan        nan 0.\n",
      "        nan        nan 0.20487376        nan        nan        nan\n",
      " 0.         0.02370502 0.20740418        nan 0.                nan\n",
      "        nan 0.                nan        nan 0.07898319 0.46544575\n",
      " 0.         0.                nan 0.         0.         0.\n",
      " 0.         0.37405044 0.37405044        nan 0.1045724         nan\n",
      " 0.                nan 0.21757277        nan 0.44901403 0.20960718\n",
      "        nan 0.         0.00452165        nan        nan        nan]\n",
      "  warnings.warn(\n"
     ]
    }
   ],
   "source": [
    "DT_result = search.fit(X_resampled, y_resampled)"
   ]
  },
  {
   "cell_type": "code",
   "execution_count": 238,
   "metadata": {},
   "outputs": [
    {
     "name": "stdout",
     "output_type": "stream",
     "text": [
      "Best F1 score: 0.47043320279290923\n",
      "Best Hyperparameters: {'splitter': 'best', 'min_weight_fraction_leaf': 0.1, 'min_samples_leaf': 9, 'max_leaf_nodes': None, 'max_features': 'auto', 'criterion': 'gini'}\n"
     ]
    },
    {
     "data": {
      "text/plain": [
       "0.6885679302844011"
      ]
     },
     "execution_count": 238,
     "metadata": {},
     "output_type": "execute_result"
    }
   ],
   "source": [
    "# summarize result\n",
    "print('Best F1 score: %s' % DT_result.best_score_)\n",
    "print('Best Hyperparameters: %s' % DT_result.best_params_)\n",
    "DT_result.cv_results_[\"mean_test_AUC\"][DT_result.best_index_]"
   ]
  },
  {
   "cell_type": "code",
   "execution_count": 239,
   "metadata": {},
   "outputs": [],
   "source": [
    "DT_final = DecisionTreeClassifier(splitter=\"best\",min_weight_fraction_leaf=0.1,min_samples_leaf=9,max_leaf_nodes=None,max_features=\"auto\",criterion=\"gini\")\n",
    "DT_final=DT_final.fit(X_resampled, y_resampled)"
   ]
  },
  {
   "cell_type": "markdown",
   "metadata": {},
   "source": [
    "## SVM"
   ]
  },
  {
   "cell_type": "code",
   "execution_count": 240,
   "metadata": {},
   "outputs": [],
   "source": [
    "SVM = LinearSVC()"
   ]
  },
  {
   "cell_type": "code",
   "execution_count": 241,
   "metadata": {},
   "outputs": [],
   "source": [
    "# define search space\n",
    "space = dict()\n",
    "space['C'] = [0.001, 0.01, 10, 100, 1000]\n",
    "space['penalty']=[\"l1\", \"l2\"]\n",
    "space['loss']=[\"hinge\", \"squared_hinge\"]\n",
    "space['class_weight']=[None,\"balanced\"]\n",
    "space[\"max_iter\"]=[2000,2500,3000]"
   ]
  },
  {
   "cell_type": "code",
   "execution_count": 242,
   "metadata": {},
   "outputs": [],
   "source": [
    "# define search\n",
    "search = RandomizedSearchCV(SVM, space, n_iter=60,scoring=scoring, n_jobs=-1, cv=cv, random_state=1,refit=\"F1\")"
   ]
  },
  {
   "cell_type": "code",
   "execution_count": 243,
   "metadata": {},
   "outputs": [
    {
     "name": "stderr",
     "output_type": "stream",
     "text": [
      "C:\\tools\\Anaconda3\\envs\\py\\lib\\site-packages\\sklearn\\model_selection\\_validation.py:372: FitFailedWarning: \n",
      "5800 fits failed out of a total of 12000.\n",
      "The score on these train-test partitions for these parameters will be set to nan.\n",
      "If these failures are not expected, you can try to debug them by setting error_score='raise'.\n",
      "\n",
      "Below are more details about the failures:\n",
      "--------------------------------------------------------------------------------\n",
      "3400 fits failed with the following error:\n",
      "Traceback (most recent call last):\n",
      "  File \"C:\\tools\\Anaconda3\\envs\\py\\lib\\site-packages\\sklearn\\model_selection\\_validation.py\", line 680, in _fit_and_score\n",
      "    estimator.fit(X_train, y_train, **fit_params)\n",
      "  File \"C:\\tools\\Anaconda3\\envs\\py\\lib\\site-packages\\sklearn\\svm\\_classes.py\", line 257, in fit\n",
      "    self.coef_, self.intercept_, self.n_iter_ = _fit_liblinear(\n",
      "  File \"C:\\tools\\Anaconda3\\envs\\py\\lib\\site-packages\\sklearn\\svm\\_base.py\", line 1185, in _fit_liblinear\n",
      "    solver_type = _get_liblinear_solver_type(multi_class, penalty, loss, dual)\n",
      "  File \"C:\\tools\\Anaconda3\\envs\\py\\lib\\site-packages\\sklearn\\svm\\_base.py\", line 1024, in _get_liblinear_solver_type\n",
      "    raise ValueError(\n",
      "ValueError: Unsupported set of arguments: The combination of penalty='l1' and loss='squared_hinge' are not supported when dual=True, Parameters: penalty='l1', loss='squared_hinge', dual=True\n",
      "\n",
      "--------------------------------------------------------------------------------\n",
      "2400 fits failed with the following error:\n",
      "Traceback (most recent call last):\n",
      "  File \"C:\\tools\\Anaconda3\\envs\\py\\lib\\site-packages\\sklearn\\model_selection\\_validation.py\", line 680, in _fit_and_score\n",
      "    estimator.fit(X_train, y_train, **fit_params)\n",
      "  File \"C:\\tools\\Anaconda3\\envs\\py\\lib\\site-packages\\sklearn\\svm\\_classes.py\", line 257, in fit\n",
      "    self.coef_, self.intercept_, self.n_iter_ = _fit_liblinear(\n",
      "  File \"C:\\tools\\Anaconda3\\envs\\py\\lib\\site-packages\\sklearn\\svm\\_base.py\", line 1185, in _fit_liblinear\n",
      "    solver_type = _get_liblinear_solver_type(multi_class, penalty, loss, dual)\n",
      "  File \"C:\\tools\\Anaconda3\\envs\\py\\lib\\site-packages\\sklearn\\svm\\_base.py\", line 1024, in _get_liblinear_solver_type\n",
      "    raise ValueError(\n",
      "ValueError: Unsupported set of arguments: The combination of penalty='l1' and loss='hinge' is not supported, Parameters: penalty='l1', loss='hinge', dual=True\n",
      "\n",
      "  warnings.warn(some_fits_failed_message, FitFailedWarning)\n",
      "C:\\tools\\Anaconda3\\envs\\py\\lib\\site-packages\\sklearn\\model_selection\\_search.py:969: UserWarning: One or more of the test scores are non-finite: [0.71902277        nan 0.71807069 0.65295353 0.68358092        nan\n",
      " 0.70926032 0.71771652        nan        nan 0.66148752 0.68192\n",
      "        nan        nan 0.69032987        nan        nan 0.64890402\n",
      " 0.71934419        nan        nan 0.66557295 0.71797745        nan\n",
      " 0.68904139        nan 0.70926026        nan 0.71738871        nan\n",
      " 0.70926027        nan        nan        nan        nan 0.68384252\n",
      "        nan        nan        nan 0.69632495 0.65545621 0.69387159\n",
      "        nan 0.6735006  0.70186624 0.71934397 0.71656317 0.71651867\n",
      "        nan 0.71807043 0.71646346        nan 0.69632498        nan\n",
      "        nan 0.6503482         nan        nan 0.66557281        nan]\n",
      "  warnings.warn(\n",
      "C:\\tools\\Anaconda3\\envs\\py\\lib\\site-packages\\sklearn\\model_selection\\_search.py:969: UserWarning: One or more of the test scores are non-finite: [0.59173238        nan 0.54808586 0.40974139 0.54487133        nan\n",
      " 0.54046697 0.54604585        nan        nan 0.39151857 0.43311931\n",
      "        nan        nan 0.50524584        nan        nan 0.39619801\n",
      " 0.59175064        nan        nan 0.55367868 0.5482316         nan\n",
      " 0.54543399        nan 0.54046697        nan 0.58768377        nan\n",
      " 0.54046697        nan        nan        nan        nan 0.54461164\n",
      "        nan        nan        nan 0.57838618 0.43102175 0.35283435\n",
      "        nan 0.4692736  0.58763941 0.59174761 0.58960378 0.58945047\n",
      "        nan 0.54808586 0.59053788        nan 0.57838618        nan\n",
      "        nan 0.412684          nan        nan 0.55369112        nan]\n",
      "  warnings.warn(\n"
     ]
    }
   ],
   "source": [
    "SVM_result = search.fit(X_resampled, y_resampled)"
   ]
  },
  {
   "cell_type": "code",
   "execution_count": null,
   "metadata": {},
   "outputs": [
    {
     "name": "stdout",
     "output_type": "stream",
     "text": [
      "Best F1: 0.5742111278286377\n",
      "Best Hyperparameters: {'penalty': 'l2', 'max_iter': 2000, 'loss': 'squared_hinge', 'class_weight': 'balanced', 'C': 10}\n"
     ]
    },
    {
     "data": {
      "text/plain": [
       "0.7221078174042441"
      ]
     },
     "execution_count": 397,
     "metadata": {},
     "output_type": "execute_result"
    }
   ],
   "source": [
    "# summarize result\n",
    "print('Best F1: %s' % SVM_result.best_score_)\n",
    "print('Best Hyperparameters: %s' % SVM_result.best_params_)\n",
    "SVM_result.cv_results_[\"mean_test_AUC\"][SVM_result.best_index_]"
   ]
  },
  {
   "cell_type": "code",
   "execution_count": 244,
   "metadata": {},
   "outputs": [],
   "source": [
    "SVM_final = LinearSVC(penalty=\"l2\",loss='squared_hinge',class_weight='balanced',C=10,max_iter=2000)\n",
    "SVM_final=SVM_final.fit(X_resampled, y_resampled)"
   ]
  },
  {
   "cell_type": "markdown",
   "metadata": {},
   "source": [
    "## Benchmark"
   ]
  },
  {
   "cell_type": "code",
   "execution_count": 291,
   "metadata": {},
   "outputs": [
    {
     "name": "stderr",
     "output_type": "stream",
     "text": [
      "C:\\tools\\Anaconda3\\envs\\py\\lib\\site-packages\\sklearn\\svm\\_base.py:1206: ConvergenceWarning: Liblinear failed to converge, increase the number of iterations.\n",
      "  warnings.warn(\n",
      "C:\\tools\\Anaconda3\\envs\\py\\lib\\site-packages\\sklearn\\svm\\_base.py:1206: ConvergenceWarning: Liblinear failed to converge, increase the number of iterations.\n",
      "  warnings.warn(\n",
      "C:\\tools\\Anaconda3\\envs\\py\\lib\\site-packages\\sklearn\\svm\\_base.py:1206: ConvergenceWarning: Liblinear failed to converge, increase the number of iterations.\n",
      "  warnings.warn(\n",
      "C:\\tools\\Anaconda3\\envs\\py\\lib\\site-packages\\sklearn\\svm\\_base.py:1206: ConvergenceWarning: Liblinear failed to converge, increase the number of iterations.\n",
      "  warnings.warn(\n",
      "C:\\tools\\Anaconda3\\envs\\py\\lib\\site-packages\\sklearn\\svm\\_base.py:1206: ConvergenceWarning: Liblinear failed to converge, increase the number of iterations.\n",
      "  warnings.warn(\n",
      "C:\\tools\\Anaconda3\\envs\\py\\lib\\site-packages\\sklearn\\svm\\_base.py:1206: ConvergenceWarning: Liblinear failed to converge, increase the number of iterations.\n",
      "  warnings.warn(\n",
      "C:\\tools\\Anaconda3\\envs\\py\\lib\\site-packages\\sklearn\\svm\\_base.py:1206: ConvergenceWarning: Liblinear failed to converge, increase the number of iterations.\n",
      "  warnings.warn(\n",
      "C:\\tools\\Anaconda3\\envs\\py\\lib\\site-packages\\sklearn\\svm\\_base.py:1206: ConvergenceWarning: Liblinear failed to converge, increase the number of iterations.\n",
      "  warnings.warn(\n",
      "C:\\tools\\Anaconda3\\envs\\py\\lib\\site-packages\\sklearn\\svm\\_base.py:1206: ConvergenceWarning: Liblinear failed to converge, increase the number of iterations.\n",
      "  warnings.warn(\n",
      "C:\\tools\\Anaconda3\\envs\\py\\lib\\site-packages\\sklearn\\svm\\_base.py:1206: ConvergenceWarning: Liblinear failed to converge, increase the number of iterations.\n",
      "  warnings.warn(\n",
      "C:\\tools\\Anaconda3\\envs\\py\\lib\\site-packages\\sklearn\\svm\\_base.py:1206: ConvergenceWarning: Liblinear failed to converge, increase the number of iterations.\n",
      "  warnings.warn(\n",
      "C:\\tools\\Anaconda3\\envs\\py\\lib\\site-packages\\sklearn\\svm\\_base.py:1206: ConvergenceWarning: Liblinear failed to converge, increase the number of iterations.\n",
      "  warnings.warn(\n",
      "C:\\tools\\Anaconda3\\envs\\py\\lib\\site-packages\\sklearn\\svm\\_base.py:1206: ConvergenceWarning: Liblinear failed to converge, increase the number of iterations.\n",
      "  warnings.warn(\n",
      "C:\\tools\\Anaconda3\\envs\\py\\lib\\site-packages\\sklearn\\svm\\_base.py:1206: ConvergenceWarning: Liblinear failed to converge, increase the number of iterations.\n",
      "  warnings.warn(\n",
      "C:\\tools\\Anaconda3\\envs\\py\\lib\\site-packages\\sklearn\\svm\\_base.py:1206: ConvergenceWarning: Liblinear failed to converge, increase the number of iterations.\n",
      "  warnings.warn(\n",
      "C:\\tools\\Anaconda3\\envs\\py\\lib\\site-packages\\sklearn\\svm\\_base.py:1206: ConvergenceWarning: Liblinear failed to converge, increase the number of iterations.\n",
      "  warnings.warn(\n"
     ]
    }
   ],
   "source": [
    "models = [LR_final,LDA_final,KNN_final,DT_final,SVM_final]\n",
    "model_name = ['Logisitc Regression', 'LDA', \"KNN\",'Decision Tree',\"SVM\"]\n",
    "measurement = benchmark(models,model_name,X_resampled,y_resampled,20)"
   ]
  },
  {
   "cell_type": "code",
   "execution_count": 292,
   "metadata": {},
   "outputs": [
    {
     "data": {
      "text/html": [
       "<div>\n",
       "<style scoped>\n",
       "    .dataframe tbody tr th:only-of-type {\n",
       "        vertical-align: middle;\n",
       "    }\n",
       "\n",
       "    .dataframe tbody tr th {\n",
       "        vertical-align: top;\n",
       "    }\n",
       "\n",
       "    .dataframe thead th {\n",
       "        text-align: right;\n",
       "    }\n",
       "</style>\n",
       "<table border=\"1\" class=\"dataframe\">\n",
       "  <thead>\n",
       "    <tr style=\"text-align: right;\">\n",
       "      <th></th>\n",
       "      <th>Logisitc Regression</th>\n",
       "      <th>LDA</th>\n",
       "      <th>KNN</th>\n",
       "      <th>Decision Tree</th>\n",
       "      <th>SVM</th>\n",
       "    </tr>\n",
       "  </thead>\n",
       "  <tbody>\n",
       "    <tr>\n",
       "      <th>Test AUC Score</th>\n",
       "      <td>0.719959</td>\n",
       "      <td>0.712576</td>\n",
       "      <td>0.803573</td>\n",
       "      <td>0.681477</td>\n",
       "      <td>0.719362</td>\n",
       "    </tr>\n",
       "    <tr>\n",
       "      <th>Test F-1 score</th>\n",
       "      <td>0.550787</td>\n",
       "      <td>0.544861</td>\n",
       "      <td>0.628151</td>\n",
       "      <td>0.461304</td>\n",
       "      <td>0.592504</td>\n",
       "    </tr>\n",
       "    <tr>\n",
       "      <th>Train AUC Score</th>\n",
       "      <td>0.720755</td>\n",
       "      <td>0.713417</td>\n",
       "      <td>0.881195</td>\n",
       "      <td>0.686848</td>\n",
       "      <td>0.720220</td>\n",
       "    </tr>\n",
       "    <tr>\n",
       "      <th>Train F-1 score</th>\n",
       "      <td>0.550548</td>\n",
       "      <td>0.546177</td>\n",
       "      <td>0.702950</td>\n",
       "      <td>0.460256</td>\n",
       "      <td>0.593035</td>\n",
       "    </tr>\n",
       "  </tbody>\n",
       "</table>\n",
       "</div>"
      ],
      "text/plain": [
       "                 Logisitc Regression       LDA       KNN  Decision Tree  \\\n",
       "Test AUC Score              0.719959  0.712576  0.803573       0.681477   \n",
       "Test F-1 score              0.550787  0.544861  0.628151       0.461304   \n",
       "Train AUC Score             0.720755  0.713417  0.881195       0.686848   \n",
       "Train F-1 score             0.550548  0.546177  0.702950       0.460256   \n",
       "\n",
       "                      SVM  \n",
       "Test AUC Score   0.719362  \n",
       "Test F-1 score   0.592504  \n",
       "Train AUC Score  0.720220  \n",
       "Train F-1 score  0.593035  "
      ]
     },
     "execution_count": 292,
     "metadata": {},
     "output_type": "execute_result"
    }
   ],
   "source": [
    "measurement"
   ]
  },
  {
   "cell_type": "code",
   "execution_count": 311,
   "metadata": {},
   "outputs": [
    {
     "name": "stdout",
     "output_type": "stream",
     "text": [
      "confusion matrix: KNN\n"
     ]
    },
    {
     "data": {
      "text/plain": [
       "<AxesSubplot:>"
      ]
     },
     "execution_count": 311,
     "metadata": {},
     "output_type": "execute_result"
    },
    {
     "data": {
      "image/png": "[encoded data removed]",
      "text/plain": [
       "<Figure size 432x288 with 2 Axes>"
      ]
     },
     "metadata": {
      "needs_background": "light"
     },
     "output_type": "display_data"
    }
   ],
   "source": [
    "from sklearn.metrics import confusion_matrix\n",
    "predictions = KNN_final.predict(X_resampled)\n",
    "print(\"confusion matrix: KNN\")\n",
    "cf = confusion_matrix(y_resampled, predictions)\n",
    "sns.heatmap(cf, annot=True)"
   ]
  },
  {
   "cell_type": "code",
   "execution_count": 312,
   "metadata": {},
   "outputs": [
    {
     "data": {
      "image/png": "[encoded data removed]",
      "text/plain": [
       "<Figure size 432x288 with 1 Axes>"
      ]
     },
     "metadata": {
      "needs_background": "light"
     },
     "output_type": "display_data"
    }
   ],
   "source": [
    "# How the AUC curve looks like when adding top vars\n",
    "\n",
    "AUC_b= cross_validate(KNN_final, X_resampled,y_resampled, scoring='roc_auc', cv=20,return_train_score=True)\n",
    "test_score = AUC_b[\"test_score\"].reshape(20,1)\n",
    "train_score = AUC_b[\"train_score\"].reshape(20,1)\n",
    "fold=[]\n",
    "for i in range(0,20):\n",
    "    fold = np.append(fold,i+1)\n",
    "plt.title(\"KNN Model\")\n",
    "plt.plot(fold,train_score, color='blue')\n",
    "plt.plot(fold,test_score, color='red')\n",
    "plt.xlabel('Folds')\n",
    "plt.ylabel('AUC')\n",
    "plt.ylim([0, 1])\n",
    "plt.legend(['train = 0.88', 'test = 0.80'])\n",
    "plt.show()"
   ]
  }
 ],
 "metadata": {
  "interpreter": {
   "hash": "81e0b57edd17c3833f38e5d4db6db81e2c0f982e51ee4890d9e870805c7d8a75"
  },
  "kernelspec": {
   "display_name": "R",
   "language": "python",
   "name": "python3"
  },
  "language_info": {
   "codemirror_mode": {
    "name": "ipython",
    "version": 3
   },
   "file_extension": ".py",
   "mimetype": "text/x-python",
   "name": "python",
   "nbconvert_exporter": "python",
   "pygments_lexer": "ipython3",
   "version": "3.9.4"
  },
  "orig_nbformat": 4
 },
 "nbformat": 4,
 "nbformat_minor": 2
}
